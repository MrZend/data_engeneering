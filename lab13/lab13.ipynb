{
 "cells": [
  {
   "cell_type": "markdown",
   "id": "5dd7c64c-a43a-4939-a317-e6dcee630e29",
   "metadata": {},
   "source": [
    "## Calculation of financial indicators"
   ]
  },
  {
   "cell_type": "markdown",
   "id": "2d67e78d-ee15-4d80-b49f-122855866ed2",
   "metadata": {},
   "source": [
    "### Install neccessary packages"
   ]
  },
  {
   "cell_type": "code",
   "execution_count": 1,
   "id": "f30a8c1a-0ed3-40c8-b58c-ee537c617768",
   "metadata": {},
   "outputs": [
    {
     "name": "stdout",
     "output_type": "stream",
     "text": [
      "Requirement already satisfied: delta-spark==3.2.0 in /opt/conda/lib/python3.11/site-packages (3.2.0)\n",
      "Requirement already satisfied: pyspark<3.6.0,>=3.5.0 in /usr/local/spark/python (from delta-spark==3.2.0) (3.5.0)\n",
      "Requirement already satisfied: importlib-metadata>=1.0.0 in /opt/conda/lib/python3.11/site-packages (from delta-spark==3.2.0) (6.8.0)\n",
      "Requirement already satisfied: zipp>=0.5 in /opt/conda/lib/python3.11/site-packages (from importlib-metadata>=1.0.0->delta-spark==3.2.0) (3.17.0)\n",
      "Requirement already satisfied: py4j==0.10.9.7 in /opt/conda/lib/python3.11/site-packages (from pyspark<3.6.0,>=3.5.0->delta-spark==3.2.0) (0.10.9.7)\n"
     ]
    }
   ],
   "source": [
    "!pip install delta-spark==3.2.0"
   ]
  },
  {
   "cell_type": "markdown",
   "id": "f9918441-437b-46d7-9075-ea6e340db77c",
   "metadata": {},
   "source": [
    "### Import neccessary packages"
   ]
  },
  {
   "cell_type": "code",
   "execution_count": 23,
   "id": "4980831a-1244-44b3-8b89-179e7a9220a0",
   "metadata": {},
   "outputs": [],
   "source": [
    "from pyspark.sql import SparkSession\n",
    "from pyspark.sql.types import StructType, StructField, IntegerType, StringType, FloatType, DateType\n",
    "from pyspark.sql.functions import when, col, sum, round"
   ]
  },
  {
   "cell_type": "markdown",
   "id": "f733249e-5c18-4324-82dd-2c7eb3200f79",
   "metadata": {},
   "source": [
    "### Initialize Spark-session with DeltaLake support"
   ]
  },
  {
   "cell_type": "code",
   "execution_count": 3,
   "id": "9c5906e1-611d-4e82-b6c8-de6669a28aef",
   "metadata": {},
   "outputs": [],
   "source": [
    "spark = SparkSession.builder \\\n",
    "                    .appName(\"CalculationOfFinancialIndicators\") \\\n",
    "                    .config(\"spark.jars.packages\", \"io.delta:delta-spark_2.12:3.2.0\") \\\n",
    "                    .config(\"spark.sql.extensions\", \"io.delta.sql.DeltaSparkSessionExtension\") \\\n",
    "                    .config(\"spark.sql.catalog.spark_catalog\", \"org.apache.spark.sql.delta.catalog.DeltaCatalog\") \\\n",
    "                    .getOrCreate()"
   ]
  },
  {
   "cell_type": "markdown",
   "id": "cbb29151-85e4-4f56-a5a5-e98e000d60a3",
   "metadata": {},
   "source": [
    "### Data schema"
   ]
  },
  {
   "cell_type": "code",
   "execution_count": 6,
   "id": "cce9aa5a-3bfc-4658-9ef4-ff3f7d1b3ecf",
   "metadata": {},
   "outputs": [],
   "source": [
    "schema = StructType([\n",
    "    StructField(\"transaction_id\", IntegerType(), nullable=False),\n",
    "    StructField(\"user_id\", IntegerType(), nullable=False),\n",
    "    StructField(\"amount\", FloatType(), nullable=False),\n",
    "    StructField(\"currency\", StringType(), nullable=False),\n",
    "    StructField(\"date\", DateType(), nullable=False)\n",
    "])"
   ]
  },
  {
   "cell_type": "markdown",
   "id": "e1f5bcc4-7b14-486f-9ae0-b09876cd610b",
   "metadata": {},
   "source": [
    "### Load data from csv-file"
   ]
  },
  {
   "cell_type": "code",
   "execution_count": 8,
   "id": "78a0a830-00cf-4d22-9472-8e6661c9b207",
   "metadata": {},
   "outputs": [
    {
     "name": "stdout",
     "output_type": "stream",
     "text": [
      "+--------------+-------+-------+--------+----------+\n",
      "|transaction_id|user_id| amount|currency|      date|\n",
      "+--------------+-------+-------+--------+----------+\n",
      "|             1|   1001|  150.5|     USD|2024-12-25|\n",
      "|             2|   1002| 230.75|     EUR|2024-12-25|\n",
      "|             3|   1003| 450.25|     GBP|2024-12-26|\n",
      "|             4|   1004| 9000.5|     UAH|2024-12-26|\n",
      "|             5|   1005|1200.75|     JPY|2024-12-28|\n",
      "|             6|   1006|  250.0|     USD|2024-12-29|\n",
      "|             7|   1007|  300.5|     EUR|2024-12-30|\n",
      "|             8|   1008| 500.25|     GBP|2024-12-31|\n",
      "|             9|   1009| 7500.6|     UAH|2024-12-30|\n",
      "|            10|   1010|  950.3|     JPY|2024-12-28|\n",
      "|            11|   1001|  350.2|     USD|2024-12-29|\n",
      "|            12|   1002|  420.1|     EUR|2024-12-28|\n",
      "|            13|   1003|  870.6|     GBP|2024-12-25|\n",
      "|            14|   1004| 1500.7|     UAH|2024-12-26|\n",
      "|            15|   1005|2500.45|     JPY|2024-12-25|\n",
      "|            16|   1006| 390.55|     USD|2024-12-26|\n",
      "|            17|   1007| 470.65|     EUR|2024-12-27|\n",
      "|            18|   1008| 660.35|     GBP|2024-12-27|\n",
      "|            19|   1009| 8800.8|     UAH|2024-12-30|\n",
      "|            20|   1010|  310.9|     JPY|2024-12-30|\n",
      "+--------------+-------+-------+--------+----------+\n",
      "only showing top 20 rows\n",
      "\n"
     ]
    }
   ],
   "source": [
    "df = spark.read.csv(\"/home/jovyan/work/data/transactions.csv\", header=True, schema=schema)\n",
    "df.show()"
   ]
  },
  {
   "cell_type": "markdown",
   "id": "bc5e3357-68a4-4789-8252-f0eea384b446",
   "metadata": {},
   "source": [
    "### Currency conversion to USD"
   ]
  },
  {
   "cell_type": "code",
   "execution_count": 15,
   "id": "2d12b584-9ef7-4a18-a3ac-bd71cc9b04ab",
   "metadata": {},
   "outputs": [
    {
     "name": "stdout",
     "output_type": "stream",
     "text": [
      "+--------------+-------+-------+--------+----------+----------+\n",
      "|transaction_id|user_id| amount|currency|      date|amount_usd|\n",
      "+--------------+-------+-------+--------+----------+----------+\n",
      "|             1|   1001|  150.5|     USD|2024-12-25|     150.5|\n",
      "|             2|   1002| 230.75|     EUR|2024-12-25|    253.83|\n",
      "|             3|   1003| 450.25|     GBP|2024-12-26|    585.33|\n",
      "|             4|   1004| 9000.5|     UAH|2024-12-26|    243.01|\n",
      "|             5|   1005|1200.75|     JPY|2024-12-28|      8.41|\n",
      "|             6|   1006|  250.0|     USD|2024-12-29|     250.0|\n",
      "|             7|   1007|  300.5|     EUR|2024-12-30|    330.55|\n",
      "|             8|   1008| 500.25|     GBP|2024-12-31|    650.33|\n",
      "|             9|   1009| 7500.6|     UAH|2024-12-30|    202.52|\n",
      "|            10|   1010|  950.3|     JPY|2024-12-28|      6.65|\n",
      "|            11|   1001|  350.2|     USD|2024-12-29|     350.2|\n",
      "|            12|   1002|  420.1|     EUR|2024-12-28|    462.11|\n",
      "|            13|   1003|  870.6|     GBP|2024-12-25|   1131.78|\n",
      "|            14|   1004| 1500.7|     UAH|2024-12-26|     40.52|\n",
      "|            15|   1005|2500.45|     JPY|2024-12-25|      17.5|\n",
      "|            16|   1006| 390.55|     USD|2024-12-26|    390.55|\n",
      "|            17|   1007| 470.65|     EUR|2024-12-27|    517.71|\n",
      "|            18|   1008| 660.35|     GBP|2024-12-27|    858.45|\n",
      "|            19|   1009| 8800.8|     UAH|2024-12-30|    237.62|\n",
      "|            20|   1010|  310.9|     JPY|2024-12-30|      2.18|\n",
      "+--------------+-------+-------+--------+----------+----------+\n",
      "only showing top 20 rows\n",
      "\n"
     ]
    }
   ],
   "source": [
    "currency_exchange_rates = {\n",
    "    \"USD\": 1.0,\n",
    "    \"EUR\": 1.1,\n",
    "    \"GBP\": 1.3,\n",
    "    \"UAH\": 0.027,\n",
    "    \"JPY\": 0.007\n",
    "}\n",
    "\n",
    "df_usd = df.withColumn(\n",
    "    \"amount_usd\",\n",
    "    when(col(\"currency\") == \"USD\", round(col(\"amount\") * currency_exchange_rates[\"USD\"], 2))\n",
    "    .when(col(\"currency\") == \"EUR\", round(col(\"amount\") * currency_exchange_rates[\"EUR\"], 2))\n",
    "    .when(col(\"currency\") == \"GBP\", round(col(\"amount\") * currency_exchange_rates[\"GBP\"], 2))\n",
    "    .when(col(\"currency\") == \"UAH\", round(col(\"amount\") * currency_exchange_rates[\"UAH\"], 2))\n",
    "    .when(col(\"currency\") == \"JPY\", round(col(\"amount\") * currency_exchange_rates[\"JPY\"], 2))\n",
    ")\n",
    "\n",
    "df_usd.show()"
   ]
  },
  {
   "cell_type": "markdown",
   "id": "94a5609b-6a5d-4501-9887-d09a29d703a6",
   "metadata": {},
   "source": [
    "### Filtering data for the last two days of 2024"
   ]
  },
  {
   "cell_type": "code",
   "execution_count": 16,
   "id": "5d38ba93-8c66-4689-8557-8bdf35f79c43",
   "metadata": {},
   "outputs": [
    {
     "name": "stdout",
     "output_type": "stream",
     "text": [
      "+--------------+-------+------+--------+----------+----------+\n",
      "|transaction_id|user_id|amount|currency|      date|amount_usd|\n",
      "+--------------+-------+------+--------+----------+----------+\n",
      "|             7|   1007| 300.5|     EUR|2024-12-30|    330.55|\n",
      "|             8|   1008|500.25|     GBP|2024-12-31|    650.33|\n",
      "|             9|   1009|7500.6|     UAH|2024-12-30|    202.52|\n",
      "|            19|   1009|8800.8|     UAH|2024-12-30|    237.62|\n",
      "|            20|   1010| 310.9|     JPY|2024-12-30|      2.18|\n",
      "|            21|   1001|520.25|     USD|2024-12-31|    520.25|\n",
      "|            27|   1007|550.45|     EUR|2024-12-30|     605.5|\n",
      "|            28|   1008|670.95|     GBP|2024-12-31|    872.24|\n",
      "|            30|   1010|340.75|     JPY|2024-12-30|      2.39|\n",
      "+--------------+-------+------+--------+----------+----------+\n",
      "\n"
     ]
    }
   ],
   "source": [
    "df_filtered = df_usd.filter(\n",
    "    (col(\"date\") == \"2024-12-30\") | (col(\"date\") == \"2024-12-31\")\n",
    ")\n",
    "\n",
    "df_filtered.show()"
   ]
  },
  {
   "cell_type": "markdown",
   "id": "9c4e6de6-639e-4dcc-9e97-f97e8529c032",
   "metadata": {},
   "source": [
    "### Aggregating by user_id"
   ]
  },
  {
   "cell_type": "code",
   "execution_count": 20,
   "id": "89a4aec2-27f5-445c-bdbd-e291354466d8",
   "metadata": {},
   "outputs": [
    {
     "name": "stdout",
     "output_type": "stream",
     "text": [
      "+-------+----------------+\n",
      "|user_id|total_amount_usd|\n",
      "+-------+----------------+\n",
      "|   1008|         1522.57|\n",
      "|   1010|            4.57|\n",
      "|   1001|          520.25|\n",
      "|   1007|          936.05|\n",
      "|   1009|          440.14|\n",
      "+-------+----------------+\n",
      "\n"
     ]
    }
   ],
   "source": [
    "aggregated_df = df_filtered.groupBy(\"user_id\").agg(\n",
    "    round(sum(\"amount_usd\"), 2).alias(\"total_amount_usd\")\n",
    ")\n",
    "\n",
    "aggregated_df.show()"
   ]
  },
  {
   "cell_type": "markdown",
   "id": "f08aecb6-ae53-45c4-a88f-f5725a440667",
   "metadata": {},
   "source": [
    "### Save processed data to Delta table"
   ]
  },
  {
   "cell_type": "code",
   "execution_count": 21,
   "id": "56e3ae22-aac6-41db-8b04-c3fc25d6569a",
   "metadata": {},
   "outputs": [],
   "source": [
    "aggregated_df.write.format(\"delta\").mode(\"overwrite\").saveAsTable(\"total_amount_usd_by_user_id_last_two_days_2024\")"
   ]
  },
  {
   "cell_type": "markdown",
   "id": "7c71736b-e2c2-42fd-a240-9a3385b07437",
   "metadata": {},
   "source": [
    "### Read saved data from Delta table"
   ]
  },
  {
   "cell_type": "code",
   "execution_count": 22,
   "id": "7a8e84dd-0b9c-402f-ab4c-ced216b2ae94",
   "metadata": {},
   "outputs": [
    {
     "name": "stdout",
     "output_type": "stream",
     "text": [
      "+-------+----------------+\n",
      "|user_id|total_amount_usd|\n",
      "+-------+----------------+\n",
      "|   1008|         1522.57|\n",
      "|   1010|            4.57|\n",
      "|   1001|          520.25|\n",
      "|   1007|          936.05|\n",
      "|   1009|          440.14|\n",
      "+-------+----------------+\n",
      "\n"
     ]
    }
   ],
   "source": [
    "delta_df = spark.read.format(\"delta\").table(\"total_amount_usd_by_user_id_last_two_days_2024\")\n",
    "delta_df.show()"
   ]
  },
  {
   "cell_type": "code",
   "execution_count": null,
   "id": "71b40f8c-c4fa-48fe-a182-d91111a32add",
   "metadata": {},
   "outputs": [],
   "source": []
  }
 ],
 "metadata": {
  "kernelspec": {
   "display_name": "Python 3 (ipykernel)",
   "language": "python",
   "name": "python3"
  },
  "language_info": {
   "codemirror_mode": {
    "name": "ipython",
    "version": 3
   },
   "file_extension": ".py",
   "mimetype": "text/x-python",
   "name": "python",
   "nbconvert_exporter": "python",
   "pygments_lexer": "ipython3",
   "version": "3.11.6"
  }
 },
 "nbformat": 4,
 "nbformat_minor": 5
}
