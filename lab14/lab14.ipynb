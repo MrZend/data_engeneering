{
 "cells": [
  {
   "cell_type": "markdown",
   "id": "2b5d3d69-5abb-40e1-bf87-a5c4cf2a45de",
   "metadata": {},
   "source": [
    "## Data about vehicle"
   ]
  },
  {
   "cell_type": "markdown",
   "id": "a254a55e-f87c-40a4-bb47-fa3e89bdd383",
   "metadata": {},
   "source": [
    "### Install neccessary packages"
   ]
  },
  {
   "cell_type": "code",
   "execution_count": 1,
   "id": "5262ce01-da38-4bd9-96e3-76006f26dc7f",
   "metadata": {},
   "outputs": [
    {
     "name": "stdout",
     "output_type": "stream",
     "text": [
      "Requirement already satisfied: delta-spark==3.2.0 in /opt/conda/lib/python3.11/site-packages (3.2.0)\n",
      "Requirement already satisfied: pyspark<3.6.0,>=3.5.0 in /usr/local/spark/python (from delta-spark==3.2.0) (3.5.0)\n",
      "Requirement already satisfied: importlib-metadata>=1.0.0 in /opt/conda/lib/python3.11/site-packages (from delta-spark==3.2.0) (6.8.0)\n",
      "Requirement already satisfied: zipp>=0.5 in /opt/conda/lib/python3.11/site-packages (from importlib-metadata>=1.0.0->delta-spark==3.2.0) (3.17.0)\n",
      "Requirement already satisfied: py4j==0.10.9.7 in /opt/conda/lib/python3.11/site-packages (from pyspark<3.6.0,>=3.5.0->delta-spark==3.2.0) (0.10.9.7)\n"
     ]
    }
   ],
   "source": [
    "!pip install delta-spark==3.2.0"
   ]
  },
  {
   "cell_type": "markdown",
   "id": "815e770a-0998-4eca-a29a-52746f6d37bf",
   "metadata": {},
   "source": [
    "### Import neccessary packages"
   ]
  },
  {
   "cell_type": "code",
   "execution_count": 39,
   "id": "23413f16-3c57-46ce-9194-6144f28704a9",
   "metadata": {},
   "outputs": [],
   "source": [
    "from pyspark.sql import SparkSession\n",
    "from pyspark.sql.functions import col, avg, count, hour, when, to_date, round"
   ]
  },
  {
   "cell_type": "markdown",
   "id": "c43f89fd-d989-4a0e-a1d9-4eb14b5eae81",
   "metadata": {},
   "source": [
    "### Initialize Spark-session with DeltaLake support"
   ]
  },
  {
   "cell_type": "code",
   "execution_count": 3,
   "id": "8e01254a-0373-4620-9f89-4b29f0d72b7d",
   "metadata": {},
   "outputs": [],
   "source": [
    "spark = SparkSession.builder \\\n",
    "    .appName(\"TransportDataPipeline\") \\\n",
    "    .config(\"spark.jars.packages\", \"io.delta:delta-spark_2.12:3.2.0\") \\\n",
    "    .config(\"spark.sql.extensions\", \"io.delta.sql.DeltaSparkSessionExtension\") \\\n",
    "    .config(\"spark.sql.catalog.spark_catalog\", \"org.apache.spark.sql.delta.catalog.DeltaCatalog\") \\\n",
    "    .getOrCreate()"
   ]
  },
  {
   "cell_type": "markdown",
   "id": "d7afecd1-2b41-41e1-81cd-bb9d365c1ed9",
   "metadata": {},
   "source": [
    "### Bronze level - load and save raw data"
   ]
  },
  {
   "cell_type": "code",
   "execution_count": 28,
   "id": "53289932-3413-498a-9f58-55ce03159e0b",
   "metadata": {},
   "outputs": [],
   "source": [
    "data = [\n",
    "    (\"2024-01-01 08:30:00\", \"Toyota\", \"Corolla\", 60, \"Kyiv\"),\n",
    "    (\"2024-01-01 08:12:00\", \"Honda\", \"Civic\", 70, \"Kyiv\"),\n",
    "    (\"2024-01-01 09:30:00\", \"Mercedes\", \"Sprinter\", 40, \"Kyiv\"),\n",
    "    (\"2024-01-01 09:40:00\", \"Ikarus\", \"256\", 45, \"Kyiv\"),\n",
    "    (\"2024-01-01 09:12:00\", \"Volvo\", \"FH16\", -10, \"Lviv\"),\n",
    "    (\"2024-01-01 10:30:00\", \"Scania\", \"R500\", 220, \"Odesa\"),\n",
    "    (\"2024-01-01 11:20:00\", \"Toyota\", \"Corolla\", 60, \"Lviv\"),\n",
    "    (\"2024-01-01 11:55:00\", \"Honda\", \"Civic\", 70, \"Kyiv\"),\n",
    "    (\"2024-01-01 12:30:00\", \"Mercedes\", \"Sprinter\", 40, \"Kyiv\"),\n",
    "    (\"2024-01-01 14:30:00\", \"Ikarus\", \"256\", 45, \"Kyiv\"),\n",
    "    (\"2024-01-01 18:30:00\", \"Volvo\", \"FH16\", 80, \"Odesa\"),\n",
    "    (\"2024-01-01 19:30:00\", \"Scania\", \"R500\", 85, \"Kyiv\"),\n",
    "    (\"2024-01-02 08:30:00\", \"Toyota\", \"Corolla\", 65, \"Odesa\"),\n",
    "    (\"2024-01-02 09:30:00\", \"Honda\", \"Civic\", 75, \"Lviv\"),\n",
    "    (\"2024-01-02 09:20:00\", \"Mercedes\", \"Sprinter\", 50, \"Lviv\"),\n",
    "    (\"2024-01-02 09:15:00\", \"Ikarus\", \"256\", 55, \"Kyiv\"),\n",
    "    (\"2024-01-02 10:30:00\", \"Volvo\", \"FH16\", 90, \"Lviv\"),\n",
    "    (\"2024-01-02 10:55:00\", \"Scania\", \"R500\", 95, \"Kyiv\"),\n",
    "    (\"2024-01-02 11:30:00\", \"Toyota\", \"Corolla\", 220, \"Lviv\"),\n",
    "    (\"2024-01-02 12:30:00\", \"Honda\", \"Civic\", 75, \"Lviv\"),\n",
    "    (\"2024-01-02 18:30:00\", \"Mercedes\", \"Sprinter\", 50, \"Odesa\"),\n",
    "    (\"2024-01-02 19:30:00\", \"Ikarus\", \"256\", 55, \"Lviv\"),\n",
    "    (\"2024-01-02 19:40:00\", \"Volvo\", \"FH16\", 90, \"Kyiv\"),\n",
    "    (\"2024-01-02 19:50:00\", \"Scania\", \"R500\", 95, \"Lviv\"),\n",
    "    (\"2024-01-03 08:30:00\", \"Toyota\", \"Corolla\", 70, \"Kyiv\"),\n",
    "    (\"2024-01-03 09:30:00\", \"Honda\", \"Civic\", 80, \"Odesa\"),\n",
    "    (\"2024-01-03 09:40:00\", \"Mercedes\", \"Sprinter\", 55, \"Odesa\"),\n",
    "    (\"2024-01-03 09:45:00\", \"Ikarus\", \"256\", 60, \"Lviv\"),\n",
    "    (\"2024-01-03 10:30:00\", \"Volvo\", \"FH16\", 100, \"Lviv\"),\n",
    "    (\"2024-01-03 12:30:00\", \"Scania\", \"R500\", 110, \"Odesa\"),\n",
    "    (\"2024-01-03 14:30:00\", \"Toyota\", \"Corolla\", -10, \"Kyiv\"),\n",
    "    (\"2024-01-03 15:30:00\", \"Honda\", \"Civic\", 80, \"Odesa\"),\n",
    "    (\"2024-01-03 16:30:00\", \"Mercedes\", \"Sprinter\", 55, \"Odesa\"),\n",
    "    (\"2024-01-03 19:30:00\", \"Ikarus\", \"256\", 60, \"Odesa\"),\n",
    "    (\"2024-01-03 20:30:00\", \"Volvo\", \"FH16\", 250, \"Odesa\"),\n",
    "    (\"2024-01-03 21:30:00\", \"Scania\", \"R500\", 110, \"Kyiv\")\n",
    "]\n",
    "\n",
    "columns = [\"timestamp\", \"brand\", \"model\", \"speed\", \"city\"]\n",
    "bronze_df = spark.createDataFrame(data, columns)\n",
    "bronze_df.write.format(\"delta\").mode(\"overwrite\").save(\"/home/jovyan/work/lab14_data/bronze\")"
   ]
  },
  {
   "cell_type": "markdown",
   "id": "242ee92b-8757-4fff-b3b8-e328a14fd30b",
   "metadata": {},
   "source": [
    "### Check data"
   ]
  },
  {
   "cell_type": "code",
   "execution_count": 29,
   "id": "216baf15-dc15-4a0e-b5e4-3624c173d845",
   "metadata": {},
   "outputs": [
    {
     "name": "stdout",
     "output_type": "stream",
     "text": [
      "+-------------------+--------+--------+-----+-----+\n",
      "|          timestamp|   brand|   model|speed| city|\n",
      "+-------------------+--------+--------+-----+-----+\n",
      "|2024-01-01 08:30:00|  Toyota| Corolla|   60| Kyiv|\n",
      "|2024-01-01 08:12:00|   Honda|   Civic|   70| Kyiv|\n",
      "|2024-01-01 09:30:00|Mercedes|Sprinter|   40| Kyiv|\n",
      "|2024-01-01 09:40:00|  Ikarus|     256|   45| Kyiv|\n",
      "|2024-01-01 09:12:00|   Volvo|    FH16|  -10| Lviv|\n",
      "|2024-01-01 10:30:00|  Scania|    R500|  220|Odesa|\n",
      "|2024-01-01 11:20:00|  Toyota| Corolla|   60| Lviv|\n",
      "|2024-01-01 11:55:00|   Honda|   Civic|   70| Kyiv|\n",
      "|2024-01-01 12:30:00|Mercedes|Sprinter|   40| Kyiv|\n",
      "|2024-01-01 14:30:00|  Ikarus|     256|   45| Kyiv|\n",
      "|2024-01-01 18:30:00|   Volvo|    FH16|   80|Odesa|\n",
      "|2024-01-01 19:30:00|  Scania|    R500|   85| Kyiv|\n",
      "|2024-01-02 08:30:00|  Toyota| Corolla|   65|Odesa|\n",
      "|2024-01-02 09:30:00|   Honda|   Civic|   75| Lviv|\n",
      "|2024-01-02 09:20:00|Mercedes|Sprinter|   50| Lviv|\n",
      "|2024-01-02 09:15:00|  Ikarus|     256|   55| Kyiv|\n",
      "|2024-01-02 10:30:00|   Volvo|    FH16|   90| Lviv|\n",
      "|2024-01-02 10:55:00|  Scania|    R500|   95| Kyiv|\n",
      "|2024-01-02 11:30:00|  Toyota| Corolla|  220| Lviv|\n",
      "|2024-01-02 12:30:00|   Honda|   Civic|   75| Lviv|\n",
      "+-------------------+--------+--------+-----+-----+\n",
      "only showing top 20 rows\n",
      "\n"
     ]
    }
   ],
   "source": [
    "bronze_df.show()"
   ]
  },
  {
   "cell_type": "markdown",
   "id": "8ebd73ae-3c60-4260-b9ca-2ad40c568dda",
   "metadata": {},
   "source": [
    "### Silver level - clear and categorize data"
   ]
  },
  {
   "cell_type": "code",
   "execution_count": 36,
   "id": "e2b16294-cdd7-4296-ad54-42e941a08ce7",
   "metadata": {},
   "outputs": [],
   "source": [
    "bronze_data = spark.read.format(\"delta\").load(\"/home/jovyan/work/lab14_data/bronze\")\n",
    "silver_df = bronze_data.dropDuplicates()\n",
    "silver_df = silver_df.filter((col(\"speed\") >= 0) & (col(\"speed\") <= 200))\n",
    "\n",
    "# Додавання категоризації транспорту\n",
    "silver_df = silver_df.withColumn(\n",
    "    \"vehicle_type\", \n",
    "    when(col(\"brand\").isin([\"Toyota\", \"Honda\"]), \"personal\")\n",
    "    .when(col(\"brand\").isin([\"Mercedes\", \"Ikarus\"]), \"public\")\n",
    "    .when(col(\"brand\").isin([\"Volvo\", \"Scania\"]), \"cargo\")\n",
    "    .otherwise(\"unknown\")\n",
    ")\n",
    "\n",
    "# Додавання окремих колонок для часу та дати\n",
    "silver_df = silver_df.withColumn(\"date\", to_date(col(\"timestamp\")))\n",
    "silver_df = silver_df.withColumn(\"hour\", hour(col(\"timestamp\")))\n",
    "\n",
    "silver_df.write.format(\"delta\").mode(\"overwrite\").save(\"/home/jovyan/work/lab14_data/silver\")"
   ]
  },
  {
   "cell_type": "markdown",
   "id": "72e79962-da43-401e-845a-78566e5e2c9d",
   "metadata": {},
   "source": [
    "### Check data"
   ]
  },
  {
   "cell_type": "code",
   "execution_count": 37,
   "id": "78c540fb-09e3-4061-a1ed-0cb8a800ba7f",
   "metadata": {},
   "outputs": [
    {
     "name": "stdout",
     "output_type": "stream",
     "text": [
      "+-------------------+--------+--------+-----+-----+------------+----------+----+\n",
      "|          timestamp|   brand|   model|speed| city|vehicle_type|      date|hour|\n",
      "+-------------------+--------+--------+-----+-----+------------+----------+----+\n",
      "|2024-01-02 08:30:00|  Toyota| Corolla|   65|Odesa|    personal|2024-01-02|   8|\n",
      "|2024-01-02 09:20:00|Mercedes|Sprinter|   50| Lviv|      public|2024-01-02|   9|\n",
      "|2024-01-02 10:30:00|   Volvo|    FH16|   90| Lviv|       cargo|2024-01-02|  10|\n",
      "|2024-01-02 10:55:00|  Scania|    R500|   95| Kyiv|       cargo|2024-01-02|  10|\n",
      "|2024-01-02 09:15:00|  Ikarus|     256|   55| Kyiv|      public|2024-01-02|   9|\n",
      "|2024-01-02 09:30:00|   Honda|   Civic|   75| Lviv|    personal|2024-01-02|   9|\n",
      "|2024-01-03 21:30:00|  Scania|    R500|  110| Kyiv|       cargo|2024-01-03|  21|\n",
      "|2024-01-03 16:30:00|Mercedes|Sprinter|   55|Odesa|      public|2024-01-03|  16|\n",
      "|2024-01-03 19:30:00|  Ikarus|     256|   60|Odesa|      public|2024-01-03|  19|\n",
      "|2024-01-03 15:30:00|   Honda|   Civic|   80|Odesa|    personal|2024-01-03|  15|\n",
      "|2024-01-02 12:30:00|   Honda|   Civic|   75| Lviv|    personal|2024-01-02|  12|\n",
      "|2024-01-02 18:30:00|Mercedes|Sprinter|   50|Odesa|      public|2024-01-02|  18|\n",
      "|2024-01-01 09:30:00|Mercedes|Sprinter|   40| Kyiv|      public|2024-01-01|   9|\n",
      "|2024-01-01 08:30:00|  Toyota| Corolla|   60| Kyiv|    personal|2024-01-01|   8|\n",
      "|2024-01-01 08:12:00|   Honda|   Civic|   70| Kyiv|    personal|2024-01-01|   8|\n",
      "|2024-01-03 09:40:00|Mercedes|Sprinter|   55|Odesa|      public|2024-01-03|   9|\n",
      "|2024-01-03 09:30:00|   Honda|   Civic|   80|Odesa|    personal|2024-01-03|   9|\n",
      "|2024-01-03 08:30:00|  Toyota| Corolla|   70| Kyiv|    personal|2024-01-03|   8|\n",
      "|2024-01-01 11:20:00|  Toyota| Corolla|   60| Lviv|    personal|2024-01-01|  11|\n",
      "|2024-01-01 11:55:00|   Honda|   Civic|   70| Kyiv|    personal|2024-01-01|  11|\n",
      "+-------------------+--------+--------+-----+-----+------------+----------+----+\n",
      "only showing top 20 rows\n",
      "\n"
     ]
    }
   ],
   "source": [
    "silver_df.show()"
   ]
  },
  {
   "cell_type": "markdown",
   "id": "fc3a9ec5-eee0-48a7-a828-a4a8eacf1342",
   "metadata": {},
   "source": [
    "### Gold level - clear and categorize data"
   ]
  },
  {
   "cell_type": "code",
   "execution_count": 44,
   "id": "784d9078-bf35-4c53-a69e-4b18e821478a",
   "metadata": {},
   "outputs": [],
   "source": [
    "silver_data = spark.read.format(\"delta\").load(\"/home/jovyan/work/lab14_data/silver\")\n",
    "\n",
    "# Агрегування по місту та даті\n",
    "gold_city_date_agg = silver_data.groupBy(\"city\", \"date\").agg(\n",
    "    round(avg(\"speed\"), 2).alias(\"average_speed\"),\n",
    "    count(\"brand\").alias(\"vehicle_count\")\n",
    ").orderBy(\"date\")\n",
    "\n",
    "# Агрегування по місту та годину\n",
    "gold_peak_hours = silver_data.groupBy(\"city\", \"hour\").agg(\n",
    "    count(\"brand\").alias(\"vehicle_count\")\n",
    ").orderBy(\"hour\")\n",
    "\n",
    "# Зберігаємо звіти в окремих бд, щоб пізніше провести аналіз\n",
    "gold_city_date_agg.write.format(\"delta\").mode(\"overwrite\").save(\"/home/jovyan/work/lab14_data/gold_city_date_agg\")\n",
    "gold_peak_hours.write.format(\"delta\").mode(\"overwrite\").save(\"/home/jovyan/work/lab14_data/gold_peak_hours\")"
   ]
  },
  {
   "cell_type": "markdown",
   "id": "06cf0e34-899c-4f83-a8ae-a3f8239baa8f",
   "metadata": {},
   "source": [
    "### Show data for analyze"
   ]
  },
  {
   "cell_type": "code",
   "execution_count": 47,
   "id": "2ecefb74-b54f-454a-b6e3-bc1bb372949a",
   "metadata": {},
   "outputs": [
    {
     "name": "stdout",
     "output_type": "stream",
     "text": [
      "+-----+----------+-------------+-------------+\n",
      "| city|      date|average_speed|vehicle_count|\n",
      "+-----+----------+-------------+-------------+\n",
      "| Lviv|2024-01-01|         60.0|            1|\n",
      "| Kyiv|2024-01-01|        56.88|            8|\n",
      "|Odesa|2024-01-01|         80.0|            1|\n",
      "| Lviv|2024-01-02|        73.33|            6|\n",
      "| Kyiv|2024-01-02|         80.0|            3|\n",
      "|Odesa|2024-01-02|         57.5|            2|\n",
      "|Odesa|2024-01-03|        73.33|            6|\n",
      "| Lviv|2024-01-03|         80.0|            2|\n",
      "| Kyiv|2024-01-03|         90.0|            2|\n",
      "+-----+----------+-------------+-------------+\n",
      "\n",
      "+-----+----+-------------+\n",
      "| city|hour|vehicle_count|\n",
      "+-----+----+-------------+\n",
      "|Odesa|   8|            1|\n",
      "| Kyiv|   8|            3|\n",
      "| Lviv|   9|            3|\n",
      "| Kyiv|   9|            3|\n",
      "|Odesa|   9|            2|\n",
      "| Lviv|  10|            2|\n",
      "| Kyiv|  10|            1|\n",
      "| Kyiv|  11|            1|\n",
      "| Lviv|  11|            1|\n",
      "| Lviv|  12|            1|\n",
      "|Odesa|  12|            1|\n",
      "| Kyiv|  12|            1|\n",
      "| Kyiv|  14|            1|\n",
      "|Odesa|  15|            1|\n",
      "|Odesa|  16|            1|\n",
      "|Odesa|  18|            2|\n",
      "| Kyiv|  19|            2|\n",
      "| Lviv|  19|            2|\n",
      "|Odesa|  19|            1|\n",
      "| Kyiv|  21|            1|\n",
      "+-----+----+-------------+\n",
      "\n"
     ]
    }
   ],
   "source": [
    "# Завантажуємо потрібні дані (звіти) для аналізу\n",
    "gold_city_date_agg_data = spark.read.format(\"delta\").load(\"/home/jovyan/work/lab14_data/gold_city_date_agg\")\n",
    "gold_peak_hours_data = spark.read.format(\"delta\").load(\"/home/jovyan/work/lab14_data/gold_peak_hours\")\n",
    "\n",
    "# Виводимо дані для аналізу середньої швидкості та кількості транспорту в певні дати та місту\n",
    "gold_city_date_agg.show()\n",
    "\n",
    "# Виводимо дані для аналізу часу-пік в різних містах\n",
    "gold_peak_hours.show()\n",
    "\n",
    "# Можна зробити висновок, що час-пік в місті Києві - це 8-9 години, у Львові - 9 година, а в Одесі трафік рівномірний протягом дня"
   ]
  },
  {
   "cell_type": "code",
   "execution_count": null,
   "id": "6bf51c0c-e8f3-470e-838f-83df7d08b561",
   "metadata": {},
   "outputs": [],
   "source": [
    "spark.stop()"
   ]
  }
 ],
 "metadata": {
  "kernelspec": {
   "display_name": "Python 3 (ipykernel)",
   "language": "python",
   "name": "python3"
  },
  "language_info": {
   "codemirror_mode": {
    "name": "ipython",
    "version": 3
   },
   "file_extension": ".py",
   "mimetype": "text/x-python",
   "name": "python",
   "nbconvert_exporter": "python",
   "pygments_lexer": "ipython3",
   "version": "3.11.6"
  }
 },
 "nbformat": 4,
 "nbformat_minor": 5
}
