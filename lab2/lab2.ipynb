{
 "cells": [
  {
   "cell_type": "markdown",
   "id": "9f59d84f-1fe1-4e4f-84bd-0c9842beb89d",
   "metadata": {},
   "source": [
    "## Install neccessary packages "
   ]
  },
  {
   "cell_type": "code",
   "execution_count": 1,
   "id": "2b9905b7-99d2-4ebd-b831-1e0102bdc95c",
   "metadata": {},
   "outputs": [
    {
     "name": "stdout",
     "output_type": "stream",
     "text": [
      "Requirement already satisfied: requests in /usr/local/lib/python3.12/site-packages (2.32.3)\n",
      "Requirement already satisfied: charset-normalizer<4,>=2 in /usr/local/lib/python3.12/site-packages (from requests) (3.4.1)\n",
      "Requirement already satisfied: idna<4,>=2.5 in /usr/local/lib/python3.12/site-packages (from requests) (3.10)\n",
      "Requirement already satisfied: urllib3<3,>=1.21.1 in /usr/local/lib/python3.12/site-packages (from requests) (2.3.0)\n",
      "Requirement already satisfied: certifi>=2017.4.17 in /usr/local/lib/python3.12/site-packages (from requests) (2024.12.14)\n",
      "\u001b[33mWARNING: Running pip as the 'root' user can result in broken permissions and conflicting behaviour with the system package manager, possibly rendering your system unusable.It is recommended to use a virtual environment instead: https://pip.pypa.io/warnings/venv. Use the --root-user-action option if you know what you are doing and want to suppress this warning.\u001b[0m\u001b[33m\n",
      "\u001b[0m"
     ]
    }
   ],
   "source": [
    "!pip install requests"
   ]
  },
  {
   "cell_type": "markdown",
   "id": "c2d52a3e-1447-4c77-9558-cac9efde56f7",
   "metadata": {},
   "source": [
    "## Fetch and save data from API"
   ]
  },
  {
   "cell_type": "markdown",
   "id": "6e57f49b-d0b4-46f5-92d0-b98878f5c666",
   "metadata": {},
   "source": [
    "### Import neccessary packages"
   ]
  },
  {
   "cell_type": "code",
   "execution_count": 2,
   "id": "64ab46c7-dc58-4879-9964-b7e6e0e13766",
   "metadata": {},
   "outputs": [],
   "source": [
    "import requests\n",
    "import sqlite3\n",
    "from datetime import datetime, timedelta"
   ]
  },
  {
   "cell_type": "markdown",
   "id": "0839b81d-8d0b-43fb-ad72-4a2f43bfc34c",
   "metadata": {},
   "source": [
    "### Create database schema"
   ]
  },
  {
   "cell_type": "code",
   "execution_count": 23,
   "id": "80bc8f16-b1a9-43a8-a99d-f970a6458b69",
   "metadata": {},
   "outputs": [],
   "source": [
    "conn = sqlite3.connect('mars_photos_stats.db')\n",
    "c = conn.cursor()\n",
    "\n",
    "c.execute('''CREATE TABLE IF NOT EXISTS photos_stats (\n",
    "    id INTEGER PRIMARY KEY AUTOINCREMENT,\n",
    "    earth_date TEXT,\n",
    "    camera_name TEXT,\n",
    "    photo_count INTEGER,\n",
    "    rover_status TEXT\n",
    ")''')\n",
    "\n",
    "conn.commit()"
   ]
  },
  {
   "cell_type": "markdown",
   "id": "dd25918d-c8d2-4707-93d0-43c0657fe891",
   "metadata": {},
   "source": [
    "### Define helper functions for fetch photos from API by specific date"
   ]
  },
  {
   "cell_type": "code",
   "execution_count": 10,
   "id": "1383c93e-5b04-4441-9c09-e907e68948c4",
   "metadata": {},
   "outputs": [],
   "source": [
    "def fetch_photos(earth_date, base_url, rover, api_key):\n",
    "    url = f\"{base_url}/{rover}/photos\"\n",
    "    params = {\n",
    "        'api_key': api_key,\n",
    "        'earth_date': earth_date\n",
    "    }\n",
    "    response = requests.get(url, params=params)\n",
    "    if response.status_code == 200:\n",
    "        return response.json()['photos']\n",
    "    else:\n",
    "        print(f\"Error: {response.status_code} on date {earth_date}\")\n",
    "        return []"
   ]
  },
  {
   "cell_type": "markdown",
   "id": "8068e8aa-98ea-42dc-ba36-1a4b3b90f15b",
   "metadata": {},
   "source": [
    "### Define main function for retrieving data and save it to DB from API"
   ]
  },
  {
   "cell_type": "code",
   "execution_count": 22,
   "id": "d00c4450-6495-4dc6-80f4-9d20bb2d0dd3",
   "metadata": {},
   "outputs": [],
   "source": [
    "def process_and_store_data(start_date, end_date, base_url, rover, api_key):\n",
    "    start = datetime.strptime(start_date, '%Y-%m-%d')\n",
    "    end = datetime.strptime(end_date, '%Y-%m-%d')\n",
    "    delta = timedelta(days=1)\n",
    "\n",
    "    while start <= end:\n",
    "        earth_date = start.strftime('%Y-%m-%d')\n",
    "        print(f\"Fetching data for {earth_date}\")\n",
    "        photos = fetch_photos(earth_date, base_url, rover, api_key)\n",
    "\n",
    "        camera_counts = {}\n",
    "        for photo in photos:\n",
    "            camera = photo['camera']['name']\n",
    "            camera_counts[camera] = camera_counts.get(camera, 0) + 1\n",
    "\n",
    "        rover_status = photos[-1]['rover'].get('status', 'unknown') if photos else 'unknown'\n",
    "\n",
    "        for camera, count in camera_counts.items():\n",
    "            c.execute('''INSERT INTO photos_stats (earth_date, camera_name, photo_count, rover_status)\n",
    "                         VALUES (?, ?, ?, ?)''',\n",
    "                      (earth_date, camera, count, rover_status))\n",
    "        \n",
    "        conn.commit()\n",
    "        start += delta"
   ]
  },
  {
   "cell_type": "markdown",
   "id": "d8c405f5-f102-4a6e-afae-c49f615f3b1d",
   "metadata": {},
   "source": [
    "### Call main function and specify contstants"
   ]
  },
  {
   "cell_type": "code",
   "execution_count": 24,
   "id": "a626ff06-d4b6-4bbb-8f8b-29326874b4f0",
   "metadata": {},
   "outputs": [
    {
     "name": "stdout",
     "output_type": "stream",
     "text": [
      "Fetching data for 2022-01-01\n",
      "Fetching data for 2022-01-02\n",
      "Fetching data for 2022-01-03\n",
      "Fetching data for 2022-01-04\n",
      "Fetching data for 2022-01-05\n"
     ]
    }
   ],
   "source": [
    "API_KEY = 'Token'\n",
    "ROVER = 'Curiosity'\n",
    "BASE_URL = 'https://api.nasa.gov/mars-photos/api/v1/rovers'\n",
    "START_DATE = '2022-01-01'\n",
    "END_DATE = '2022-01-05'\n",
    "\n",
    "process_and_store_data(START_DATE, END_DATE, BASE_URL, ROVER, API_KEY)"
   ]
  },
  {
   "cell_type": "markdown",
   "id": "5e4e1e19-b1f8-449c-b77f-183d3fa2f895",
   "metadata": {},
   "source": [
    "### Check data at DB"
   ]
  },
  {
   "cell_type": "code",
   "execution_count": 21,
   "id": "b112cef6-2f06-4544-938a-075a18616964",
   "metadata": {},
   "outputs": [
    {
     "name": "stdout",
     "output_type": "stream",
     "text": [
      "[(1, '2022-01-01', 'FHAZ', 5, 'active'), (2, '2022-01-01', 'RHAZ', 2, 'active'), (3, '2022-01-01', 'MAST', 353, 'active'), (4, '2022-01-01', 'CHEMCAM', 24, 'active'), (5, '2022-01-01', 'MAHLI', 68, 'active'), (6, '2022-01-01', 'MARDI', 2, 'active'), (7, '2022-01-01', 'NAVCAM', 27, 'active'), (8, '2022-01-02', 'FHAZ', 2, 'active'), (9, '2022-01-02', 'RHAZ', 2, 'active'), (10, '2022-01-02', 'MAST', 221, 'active'), (11, '2022-01-02', 'CHEMCAM', 4, 'active'), (12, '2022-01-02', 'MAHLI', 16, 'active'), (13, '2022-01-02', 'MARDI', 2, 'active'), (14, '2022-01-02', 'NAVCAM', 196, 'active'), (15, '2022-01-03', 'CHEMCAM', 3, 'active'), (16, '2022-01-03', 'NAVCAM', 130, 'active'), (17, '2022-01-05', 'FHAZ', 4, 'active'), (18, '2022-01-05', 'RHAZ', 2, 'active'), (19, '2022-01-05', 'MAST', 237, 'active'), (20, '2022-01-05', 'CHEMCAM', 32, 'active'), (21, '2022-01-05', 'MAHLI', 33, 'active'), (22, '2022-01-05', 'MARDI', 2, 'active'), (23, '2022-01-05', 'NAVCAM', 178, 'active')]\n"
     ]
    }
   ],
   "source": [
    "c.execute('SELECT * FROM photos_stats')\n",
    "results = c.fetchall()\n",
    "print(results)\n",
    "conn.close()"
   ]
  }
 ],
 "metadata": {
  "kernelspec": {
   "display_name": "Python 3 (ipykernel)",
   "language": "python",
   "name": "python3"
  },
  "language_info": {
   "codemirror_mode": {
    "name": "ipython",
    "version": 3
   },
   "file_extension": ".py",
   "mimetype": "text/x-python",
   "name": "python",
   "nbconvert_exporter": "python",
   "pygments_lexer": "ipython3",
   "version": "3.12.8"
  }
 },
 "nbformat": 4,
 "nbformat_minor": 5
}
