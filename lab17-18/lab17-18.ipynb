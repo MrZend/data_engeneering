{
 "cells": [
  {
   "cell_type": "code",
   "execution_count": 1,
   "id": "db2e7450-76c3-4615-a9e1-d3709917f341",
   "metadata": {},
   "outputs": [
    {
     "name": "stdout",
     "output_type": "stream",
     "text": [
      "Collecting delta-spark==3.2.0\n",
      "  Downloading delta_spark-3.2.0-py3-none-any.whl.metadata (2.0 kB)\n",
      "Requirement already satisfied: pyspark<3.6.0,>=3.5.0 in /usr/local/spark/python (from delta-spark==3.2.0) (3.5.0)\n",
      "Requirement already satisfied: importlib-metadata>=1.0.0 in /opt/conda/lib/python3.11/site-packages (from delta-spark==3.2.0) (6.8.0)\n",
      "Requirement already satisfied: zipp>=0.5 in /opt/conda/lib/python3.11/site-packages (from importlib-metadata>=1.0.0->delta-spark==3.2.0) (3.17.0)\n",
      "Collecting py4j==0.10.9.7 (from pyspark<3.6.0,>=3.5.0->delta-spark==3.2.0)\n",
      "  Downloading py4j-0.10.9.7-py2.py3-none-any.whl.metadata (1.5 kB)\n",
      "Downloading delta_spark-3.2.0-py3-none-any.whl (21 kB)\n",
      "Downloading py4j-0.10.9.7-py2.py3-none-any.whl (200 kB)\n",
      "\u001b[2K   \u001b[90m━━━━━━━━━━━━━━━━━━━━━━━━━━━━━━━━━━━━━━━━\u001b[0m \u001b[32m200.5/200.5 kB\u001b[0m \u001b[31m2.3 MB/s\u001b[0m eta \u001b[36m0:00:00\u001b[0ma \u001b[36m0:00:01\u001b[0m\n",
      "\u001b[?25hInstalling collected packages: py4j, delta-spark\n",
      "Successfully installed delta-spark-3.2.0 py4j-0.10.9.7\n"
     ]
    }
   ],
   "source": [
    "!pip install delta-spark==3.2.0"
   ]
  },
  {
   "cell_type": "code",
   "execution_count": 13,
   "id": "836f1de4-1c78-428f-ac6b-cb1f869fa6a6",
   "metadata": {},
   "outputs": [],
   "source": [
    "from pyspark.sql import SparkSession\n",
    "from pyspark.sql.functions import desc\n",
    "from delta import *"
   ]
  },
  {
   "cell_type": "code",
   "execution_count": 3,
   "id": "705eb0fd-f457-4ee0-9820-85ca764ca543",
   "metadata": {},
   "outputs": [],
   "source": [
    "builder = SparkSession.builder \\\n",
    "                      .master(\"spark://spark:7077\") \\\n",
    "                      .config(\"spark.sql.warehouse.dir\", \"/opt/prefect/spark-warehouse\") \\\n",
    "                      .config(\"spark.sql.extensions\", \"io.delta.sql.DeltaSparkSessionExtension\") \\\n",
    "                      .config(\"spark.sql.catalog.spark_catalog\", \"org.apache.spark.sql.delta.catalog.DeltaCatalog\")\n",
    "\n",
    "spark = configure_spark_with_delta_pip(builder).getOrCreate()"
   ]
  },
  {
   "cell_type": "markdown",
   "id": "ec9787d1-5065-433e-b685-864de92818c7",
   "metadata": {},
   "source": [
    "## BRONZE"
   ]
  },
  {
   "cell_type": "code",
   "execution_count": 4,
   "id": "1f0bb843-79e1-4318-bf2a-f262d4d522b4",
   "metadata": {},
   "outputs": [
    {
     "name": "stdout",
     "output_type": "stream",
     "text": [
      "+-----+---+------+------------------------------------------------------------------------------------------------------------------------------------+----------+-----+---------+-----------+-----------------------------+--------+----------+------------+-----------+------+\n",
      "|id   |sol|camera|img_src                                                                                                                             |earth_date|rover|camera_id|camera_name|camera_full_name             |rover_id|rover_name|landing_date|launch_date|status|\n",
      "+-----+---+------+------------------------------------------------------------------------------------------------------------------------------------+----------+-----+---------+-----------+-----------------------------+--------+----------+------------+-----------+------+\n",
      "|727  |0  |NULL  |http://mars.jpl.nasa.gov/msl-raw-images/proj/msl/redops/ods/surface/sol/00000/opgs/edr/fcam/FRA_397502305EDR_D0010000AUT_04096M_.JPG|2012-08-06|NULL |20       |FHAZ       |Front Hazard Avoidance Camera|5       |Curiosity |2012-08-06  |2011-11-26 |active|\n",
      "|9720 |0  |NULL  |http://mars.jpl.nasa.gov/msl-raw-images/proj/msl/redops/ods/surface/sol/00000/opgs/edr/fcam/FRA_397506083EDR_F0010008AUT_04096M_.JPG|2012-08-06|NULL |20       |FHAZ       |Front Hazard Avoidance Camera|5       |Curiosity |2012-08-06  |2011-11-26 |active|\n",
      "|9721 |0  |NULL  |http://mars.jpl.nasa.gov/msl-raw-images/proj/msl/redops/ods/surface/sol/00000/opgs/edr/fcam/FLA_397506083EDR_F0010008AUT_04096M_.JPG|2012-08-06|NULL |20       |FHAZ       |Front Hazard Avoidance Camera|5       |Curiosity |2012-08-06  |2011-11-26 |active|\n",
      "|9722 |0  |NULL  |http://mars.jpl.nasa.gov/msl-raw-images/proj/msl/redops/ods/surface/sol/00000/opgs/edr/fcam/FLA_397504830EDR_F0010000AUT_04096M_.JPG|2012-08-06|NULL |20       |FHAZ       |Front Hazard Avoidance Camera|5       |Curiosity |2012-08-06  |2011-11-26 |active|\n",
      "|9723 |0  |NULL  |http://mars.jpl.nasa.gov/msl-raw-images/proj/msl/redops/ods/surface/sol/00000/opgs/edr/fcam/FRA_397504830EDR_F0010000AUT_04096M_.JPG|2012-08-06|NULL |20       |FHAZ       |Front Hazard Avoidance Camera|5       |Curiosity |2012-08-06  |2011-11-26 |active|\n",
      "|9724 |0  |NULL  |http://mars.jpl.nasa.gov/msl-raw-images/proj/msl/redops/ods/surface/sol/00000/opgs/edr/fcam/FRA_397506068EDR_D0010008AUT_04096M_.JPG|2012-08-06|NULL |20       |FHAZ       |Front Hazard Avoidance Camera|5       |Curiosity |2012-08-06  |2011-11-26 |active|\n",
      "|9725 |0  |NULL  |http://mars.jpl.nasa.gov/msl-raw-images/proj/msl/redops/ods/surface/sol/00000/opgs/edr/fcam/FLA_397506068EDR_D0010008AUT_04096M_.JPG|2012-08-06|NULL |20       |FHAZ       |Front Hazard Avoidance Camera|5       |Curiosity |2012-08-06  |2011-11-26 |active|\n",
      "|9726 |0  |NULL  |http://mars.jpl.nasa.gov/msl-raw-images/proj/msl/redops/ods/surface/sol/00000/opgs/edr/fcam/FLA_397502305EDR_D0010000AUT_04096M_.JPG|2012-08-06|NULL |20       |FHAZ       |Front Hazard Avoidance Camera|5       |Curiosity |2012-08-06  |2011-11-26 |active|\n",
      "|1441 |0  |NULL  |http://mars.jpl.nasa.gov/msl-raw-images/proj/msl/redops/ods/surface/sol/00000/opgs/edr/rcam/RRA_397502188EDR_D0010000AUT_04096M_.JPG|2012-08-06|NULL |21       |RHAZ       |Rear Hazard Avoidance Camera |5       |Curiosity |2012-08-06  |2011-11-26 |active|\n",
      "|12697|0  |NULL  |http://mars.jpl.nasa.gov/msl-raw-images/proj/msl/redops/ods/surface/sol/00000/opgs/edr/rcam/RRA_397506157EDR_F0010008AUT_04096M_.JPG|2012-08-06|NULL |21       |RHAZ       |Rear Hazard Avoidance Camera |5       |Curiosity |2012-08-06  |2011-11-26 |active|\n",
      "|12698|0  |NULL  |http://mars.jpl.nasa.gov/msl-raw-images/proj/msl/redops/ods/surface/sol/00000/opgs/edr/rcam/RLA_397506157EDR_F0010008AUT_04096M_.JPG|2012-08-06|NULL |21       |RHAZ       |Rear Hazard Avoidance Camera |5       |Curiosity |2012-08-06  |2011-11-26 |active|\n",
      "|12699|0  |NULL  |http://mars.jpl.nasa.gov/msl-raw-images/proj/msl/redops/ods/surface/sol/00000/opgs/edr/rcam/RLA_397504876EDR_F0010000AUT_04096M_.JPG|2012-08-06|NULL |21       |RHAZ       |Rear Hazard Avoidance Camera |5       |Curiosity |2012-08-06  |2011-11-26 |active|\n",
      "|12700|0  |NULL  |http://mars.jpl.nasa.gov/msl-raw-images/proj/msl/redops/ods/surface/sol/00000/opgs/edr/rcam/RRA_397504876EDR_F0010000AUT_04096M_.JPG|2012-08-06|NULL |21       |RHAZ       |Rear Hazard Avoidance Camera |5       |Curiosity |2012-08-06  |2011-11-26 |active|\n",
      "|12701|0  |NULL  |http://mars.jpl.nasa.gov/msl-raw-images/proj/msl/redops/ods/surface/sol/00000/opgs/edr/rcam/RRA_397506144EDR_D0010008AUT_04096M_.JPG|2012-08-06|NULL |21       |RHAZ       |Rear Hazard Avoidance Camera |5       |Curiosity |2012-08-06  |2011-11-26 |active|\n",
      "|12702|0  |NULL  |http://mars.jpl.nasa.gov/msl-raw-images/proj/msl/redops/ods/surface/sol/00000/opgs/edr/rcam/RLA_397506144EDR_D0010008AUT_04096M_.JPG|2012-08-06|NULL |21       |RHAZ       |Rear Hazard Avoidance Camera |5       |Curiosity |2012-08-06  |2011-11-26 |active|\n",
      "|12703|0  |NULL  |http://mars.jpl.nasa.gov/msl-raw-images/proj/msl/redops/ods/surface/sol/00000/opgs/edr/rcam/RLA_397502188EDR_D0010000AUT_04096M_.JPG|2012-08-06|NULL |21       |RHAZ       |Rear Hazard Avoidance Camera |5       |Curiosity |2012-08-06  |2011-11-26 |active|\n",
      "|3133 |0  |NULL  |http://mars.jpl.nasa.gov/msl-raw-images/proj/msl/redops/ods/surface/sol/00000/opgs/edr/ccam/CR0_397506222EDR_F0010008CCAM00000M_.JPG|2012-08-06|NULL |23       |CHEMCAM    |Chemistry and Camera Complex |5       |Curiosity |2012-08-06  |2011-11-26 |active|\n",
      "|58889|0  |NULL  |http://mars.jpl.nasa.gov/msl-raw-images/proj/msl/redops/ods/surface/sol/00000/opgs/edr/ccam/CR0_397506434EDR_F0010008CCAM00000M_.JPG|2012-08-06|NULL |23       |CHEMCAM    |Chemistry and Camera Complex |5       |Curiosity |2012-08-06  |2011-11-26 |active|\n",
      "|3375 |0  |NULL  |http://mars.jpl.nasa.gov/msl-raw-images/msss/00000/mrdi/0000MD9999000001I1_DXXX.jpg                                                 |2012-08-06|NULL |25       |MARDI      |Mars Descent Imager          |5       |Curiosity |2012-08-06  |2011-11-26 |active|\n",
      "|62197|0  |NULL  |http://mars.jpl.nasa.gov/msl-raw-images/msss/00000/mrdi/0000MD9999001503E1_DXXX.jpg                                                 |2012-08-06|NULL |25       |MARDI      |Mars Descent Imager          |5       |Curiosity |2012-08-06  |2011-11-26 |active|\n",
      "+-----+---+------+------------------------------------------------------------------------------------------------------------------------------------+----------+-----+---------+-----------+-----------------------------+--------+----------+------------+-----------+------+\n",
      "only showing top 20 rows\n",
      "\n"
     ]
    }
   ],
   "source": [
    "delta_bronze = DeltaTable.forPath(spark, \"/opt/prefect/spark-warehouse/delta_bronze\")\n",
    "\n",
    "delta_bronze.toDF().show(truncate=False)"
   ]
  },
  {
   "cell_type": "markdown",
   "id": "7101d8b9-8de6-4975-905a-3d217d346f51",
   "metadata": {},
   "source": [
    "## SILVER"
   ]
  },
  {
   "cell_type": "code",
   "execution_count": 5,
   "id": "a6ecf729-3a84-4965-81e9-b1a799b9f565",
   "metadata": {},
   "outputs": [
    {
     "name": "stdout",
     "output_type": "stream",
     "text": [
      "+-----+---+-----------+------------------------------------------------------------------------------------------------------------------------------------+-------------------+----------+\n",
      "|id   |sol|camera_name|img_src                                                                                                                             |earth_date         |rover_name|\n",
      "+-----+---+-----------+------------------------------------------------------------------------------------------------------------------------------------+-------------------+----------+\n",
      "|727  |0  |FHAZ       |http://mars.jpl.nasa.gov/msl-raw-images/proj/msl/redops/ods/surface/sol/00000/opgs/edr/fcam/FRA_397502305EDR_D0010000AUT_04096M_.JPG|2012-08-06 00:00:00|Curiosity |\n",
      "|9720 |0  |FHAZ       |http://mars.jpl.nasa.gov/msl-raw-images/proj/msl/redops/ods/surface/sol/00000/opgs/edr/fcam/FRA_397506083EDR_F0010008AUT_04096M_.JPG|2012-08-06 00:00:00|Curiosity |\n",
      "|9721 |0  |FHAZ       |http://mars.jpl.nasa.gov/msl-raw-images/proj/msl/redops/ods/surface/sol/00000/opgs/edr/fcam/FLA_397506083EDR_F0010008AUT_04096M_.JPG|2012-08-06 00:00:00|Curiosity |\n",
      "|9722 |0  |FHAZ       |http://mars.jpl.nasa.gov/msl-raw-images/proj/msl/redops/ods/surface/sol/00000/opgs/edr/fcam/FLA_397504830EDR_F0010000AUT_04096M_.JPG|2012-08-06 00:00:00|Curiosity |\n",
      "|9723 |0  |FHAZ       |http://mars.jpl.nasa.gov/msl-raw-images/proj/msl/redops/ods/surface/sol/00000/opgs/edr/fcam/FRA_397504830EDR_F0010000AUT_04096M_.JPG|2012-08-06 00:00:00|Curiosity |\n",
      "|9724 |0  |FHAZ       |http://mars.jpl.nasa.gov/msl-raw-images/proj/msl/redops/ods/surface/sol/00000/opgs/edr/fcam/FRA_397506068EDR_D0010008AUT_04096M_.JPG|2012-08-06 00:00:00|Curiosity |\n",
      "|9725 |0  |FHAZ       |http://mars.jpl.nasa.gov/msl-raw-images/proj/msl/redops/ods/surface/sol/00000/opgs/edr/fcam/FLA_397506068EDR_D0010008AUT_04096M_.JPG|2012-08-06 00:00:00|Curiosity |\n",
      "|9726 |0  |FHAZ       |http://mars.jpl.nasa.gov/msl-raw-images/proj/msl/redops/ods/surface/sol/00000/opgs/edr/fcam/FLA_397502305EDR_D0010000AUT_04096M_.JPG|2012-08-06 00:00:00|Curiosity |\n",
      "|1441 |0  |RHAZ       |http://mars.jpl.nasa.gov/msl-raw-images/proj/msl/redops/ods/surface/sol/00000/opgs/edr/rcam/RRA_397502188EDR_D0010000AUT_04096M_.JPG|2012-08-06 00:00:00|Curiosity |\n",
      "|12697|0  |RHAZ       |http://mars.jpl.nasa.gov/msl-raw-images/proj/msl/redops/ods/surface/sol/00000/opgs/edr/rcam/RRA_397506157EDR_F0010008AUT_04096M_.JPG|2012-08-06 00:00:00|Curiosity |\n",
      "|12698|0  |RHAZ       |http://mars.jpl.nasa.gov/msl-raw-images/proj/msl/redops/ods/surface/sol/00000/opgs/edr/rcam/RLA_397506157EDR_F0010008AUT_04096M_.JPG|2012-08-06 00:00:00|Curiosity |\n",
      "|12699|0  |RHAZ       |http://mars.jpl.nasa.gov/msl-raw-images/proj/msl/redops/ods/surface/sol/00000/opgs/edr/rcam/RLA_397504876EDR_F0010000AUT_04096M_.JPG|2012-08-06 00:00:00|Curiosity |\n",
      "|12700|0  |RHAZ       |http://mars.jpl.nasa.gov/msl-raw-images/proj/msl/redops/ods/surface/sol/00000/opgs/edr/rcam/RRA_397504876EDR_F0010000AUT_04096M_.JPG|2012-08-06 00:00:00|Curiosity |\n",
      "|12701|0  |RHAZ       |http://mars.jpl.nasa.gov/msl-raw-images/proj/msl/redops/ods/surface/sol/00000/opgs/edr/rcam/RRA_397506144EDR_D0010008AUT_04096M_.JPG|2012-08-06 00:00:00|Curiosity |\n",
      "|12702|0  |RHAZ       |http://mars.jpl.nasa.gov/msl-raw-images/proj/msl/redops/ods/surface/sol/00000/opgs/edr/rcam/RLA_397506144EDR_D0010008AUT_04096M_.JPG|2012-08-06 00:00:00|Curiosity |\n",
      "|12703|0  |RHAZ       |http://mars.jpl.nasa.gov/msl-raw-images/proj/msl/redops/ods/surface/sol/00000/opgs/edr/rcam/RLA_397502188EDR_D0010000AUT_04096M_.JPG|2012-08-06 00:00:00|Curiosity |\n",
      "|3133 |0  |CHEMCAM    |http://mars.jpl.nasa.gov/msl-raw-images/proj/msl/redops/ods/surface/sol/00000/opgs/edr/ccam/CR0_397506222EDR_F0010008CCAM00000M_.JPG|2012-08-06 00:00:00|Curiosity |\n",
      "|58889|0  |CHEMCAM    |http://mars.jpl.nasa.gov/msl-raw-images/proj/msl/redops/ods/surface/sol/00000/opgs/edr/ccam/CR0_397506434EDR_F0010008CCAM00000M_.JPG|2012-08-06 00:00:00|Curiosity |\n",
      "|3375 |0  |MARDI      |http://mars.jpl.nasa.gov/msl-raw-images/msss/00000/mrdi/0000MD9999000001I1_DXXX.jpg                                                 |2012-08-06 00:00:00|Curiosity |\n",
      "|62197|0  |MARDI      |http://mars.jpl.nasa.gov/msl-raw-images/msss/00000/mrdi/0000MD9999001503E1_DXXX.jpg                                                 |2012-08-06 00:00:00|Curiosity |\n",
      "+-----+---+-----------+------------------------------------------------------------------------------------------------------------------------------------+-------------------+----------+\n",
      "only showing top 20 rows\n",
      "\n"
     ]
    }
   ],
   "source": [
    "delta_silver = DeltaTable.forPath(spark, \"/opt/prefect/spark-warehouse/delta_silver\")\n",
    "\n",
    "delta_silver.toDF().show(truncate=False)"
   ]
  },
  {
   "cell_type": "markdown",
   "id": "f2ffffc7-87e4-413f-938d-6e4639c9ed0c",
   "metadata": {},
   "source": [
    "## GOLD"
   ]
  },
  {
   "cell_type": "markdown",
   "id": "0d402a9a-ca9e-4dc6-8ed8-e33fde93bb6a",
   "metadata": {},
   "source": [
    "### Агреговані дані для підрахунку кількості знімків за камери та солами"
   ]
  },
  {
   "cell_type": "code",
   "execution_count": 7,
   "id": "a42dd6a3-fe9b-43f8-8338-f1e0aed699f5",
   "metadata": {},
   "outputs": [
    {
     "name": "stdout",
     "output_type": "stream",
     "text": [
      "+-----------+---+-------------------+-----------+\n",
      "|camera_name|sol|         earth_date|photo_count|\n",
      "+-----------+---+-------------------+-----------+\n",
      "|    CHEMCAM| 45|2012-09-21 00:00:00|          8|\n",
      "|       RHAZ|115|2012-12-02 00:00:00|          1|\n",
      "|       FHAZ| 73|2012-10-20 00:00:00|          1|\n",
      "|    CHEMCAM|120|2012-12-07 00:00:00|          2|\n",
      "|     NAVCAM|147|2013-01-04 00:00:00|         57|\n",
      "|       MAST|132|2012-12-19 00:00:00|         26|\n",
      "|       MAST|171|2013-01-28 00:00:00|        120|\n",
      "|       MAST|  3|2012-08-09 00:00:00|        338|\n",
      "|       RHAZ|198|2013-02-25 00:00:00|          1|\n",
      "|      MAHLI|170|2013-01-27 00:00:00|         16|\n",
      "|       MAST|135|2012-12-22 00:00:00|        140|\n",
      "|       MAST|186|2013-02-13 00:00:00|        562|\n",
      "|    CHEMCAM|174|2013-01-31 00:00:00|          4|\n",
      "|     NAVCAM|128|2012-12-15 00:00:00|          8|\n",
      "|     NAVCAM|227|2013-03-27 00:00:00|         32|\n",
      "|       MAST|150|2013-01-07 00:00:00|         82|\n",
      "|       RHAZ|158|2013-01-15 00:00:00|          1|\n",
      "|       FHAZ|130|2012-12-17 00:00:00|          5|\n",
      "|       RHAZ|180|2013-02-06 00:00:00|          1|\n",
      "|    CHEMCAM| 57|2012-10-03 00:00:00|          4|\n",
      "+-----------+---+-------------------+-----------+\n",
      "only showing top 20 rows\n",
      "\n"
     ]
    }
   ],
   "source": [
    "delta_agg_sol_cam_gold = DeltaTable.forPath(spark, \"/opt/prefect/spark-warehouse/agg_sol_cam_gold\")\n",
    "delta_agg_sol_cam_gold.toDF().show()"
   ]
  },
  {
   "cell_type": "markdown",
   "id": "95d921c7-27c3-4e6b-abf7-6b060d105611",
   "metadata": {},
   "source": [
    "### Результати підрахунку середньої кількості знімків на сол для активних камер"
   ]
  },
  {
   "cell_type": "code",
   "execution_count": 8,
   "id": "e5b33e8f-1512-4d22-b166-3473dbd28d47",
   "metadata": {},
   "outputs": [
    {
     "name": "stdout",
     "output_type": "stream",
     "text": [
      "+-----------+------------------+\n",
      "|camera_name|avg_photos_per_sol|\n",
      "+-----------+------------------+\n",
      "|    CHEMCAM|               5.7|\n",
      "|     NAVCAM|             27.03|\n",
      "|      MARDI|             21.27|\n",
      "|      MAHLI|              21.8|\n",
      "|       MAST|            119.73|\n",
      "|       FHAZ|              2.81|\n",
      "|       RHAZ|              1.24|\n",
      "+-----------+------------------+\n",
      "\n"
     ]
    }
   ],
   "source": [
    "avg_photos_per_sol_gold = DeltaTable.forPath(spark, \"/opt/prefect/spark-warehouse/avg_photos_per_sol_gold\")\n",
    "avg_photos_per_sol_gold.toDF().show()"
   ]
  },
  {
   "cell_type": "markdown",
   "id": "86592b80-d5cd-4212-8bc7-9922cb8d74be",
   "metadata": {},
   "source": [
    "### Визначаємо найбільш активні періоди місії"
   ]
  },
  {
   "cell_type": "code",
   "execution_count": 14,
   "id": "eb008e16-f2c0-4adb-a542-eb51ea547314",
   "metadata": {},
   "outputs": [
    {
     "name": "stdout",
     "output_type": "stream",
     "text": [
      "+---+-------------------+------------+\n",
      "|sol|         earth_date|total_photos|\n",
      "+---+-------------------+------------+\n",
      "|  0|2012-08-06 00:00:00|        3702|\n",
      "| 42|2012-09-18 00:00:00|        2683|\n",
      "| 20|2012-08-26 00:00:00|        1046|\n",
      "| 37|2012-09-13 00:00:00|        1006|\n",
      "|173|2013-01-30 00:00:00|         759|\n",
      "|192|2013-02-19 00:00:00|         744|\n",
      "|172|2013-01-29 00:00:00|         728|\n",
      "| 78|2012-10-25 00:00:00|         716|\n",
      "| 66|2012-10-12 00:00:00|         703|\n",
      "|184|2013-02-11 00:00:00|         686|\n",
      "|186|2013-02-13 00:00:00|         584|\n",
      "| 44|2012-09-20 00:00:00|         558|\n",
      "|137|2012-12-24 00:00:00|         550|\n",
      "|109|2012-11-25 00:00:00|         534|\n",
      "| 64|2012-10-10 00:00:00|         510|\n",
      "|111|2012-11-28 00:00:00|         501|\n",
      "| 69|2012-10-15 00:00:00|         490|\n",
      "| 74|2012-10-21 00:00:00|         478|\n",
      "|110|2012-11-27 00:00:00|         476|\n",
      "| 19|2012-08-25 00:00:00|         444|\n",
      "+---+-------------------+------------+\n",
      "only showing top 20 rows\n",
      "\n"
     ]
    }
   ],
   "source": [
    "active_periods_gold = DeltaTable.forPath(spark, \"/opt/prefect/spark-warehouse/active_periods_gold\")\n",
    "active_periods_gold.toDF().orderBy(desc(\"total_photos\")).show()"
   ]
  },
  {
   "cell_type": "code",
   "execution_count": 28,
   "id": "2503b414-3697-4214-b7ec-d20a2e9b3319",
   "metadata": {},
   "outputs": [],
   "source": [
    "spark.stop()"
   ]
  },
  {
   "cell_type": "code",
   "execution_count": null,
   "id": "317218f3-e55c-4b5a-85d6-1d6e357f0ee5",
   "metadata": {},
   "outputs": [],
   "source": []
  }
 ],
 "metadata": {
  "kernelspec": {
   "display_name": "Python 3 (ipykernel)",
   "language": "python",
   "name": "python3"
  },
  "language_info": {
   "codemirror_mode": {
    "name": "ipython",
    "version": 3
   },
   "file_extension": ".py",
   "mimetype": "text/x-python",
   "name": "python",
   "nbconvert_exporter": "python",
   "pygments_lexer": "ipython3",
   "version": "3.11.6"
  }
 },
 "nbformat": 4,
 "nbformat_minor": 5
}
