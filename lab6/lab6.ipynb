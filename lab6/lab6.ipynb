{
 "cells": [
  {
   "cell_type": "markdown",
   "id": "e834ce25-2729-485c-bf60-a23f4dc7b261",
   "metadata": {},
   "source": [
    "## Import neccessary packages"
   ]
  },
  {
   "cell_type": "code",
   "execution_count": 2,
   "id": "5ca049f5-6b4d-49d3-84f8-5eb91f66f6a4",
   "metadata": {},
   "outputs": [],
   "source": [
    "from pyspark.sql import SparkSession\n",
    "import requests\n",
    "import pandas as pd"
   ]
  },
  {
   "cell_type": "markdown",
   "id": "e1eee810-68ea-477c-a789-914e46a8e3dc",
   "metadata": {},
   "source": [
    "### Load data from API"
   ]
  },
  {
   "cell_type": "code",
   "execution_count": 3,
   "id": "7e652e96-27a8-43f8-ae18-9227aaa851a1",
   "metadata": {},
   "outputs": [],
   "source": [
    "def load_data(base_url):\n",
    "    # Робимо запит в API на отримання даних\n",
    "    response = requests.get(base_url)\n",
    "\n",
    "    # Розпаковуємо данні як словник з json-формату\n",
    "    launches_data = response.json()\n",
    "\n",
    "    # Створюємо словник з потрібними даними\n",
    "    launches = [{\n",
    "        \"flight_number\": int(launch[\"flight_number\"]),\n",
    "        \"name\": launch[\"name\"],\n",
    "        \"date_utc\": pd.to_datetime(launch[\"date_utc\"]),\n",
    "        \"details\": launch[\"details\"],\n",
    "        \"rocket\": launch[\"rocket\"],\n",
    "        \"success\": launch[\"success\"],\n",
    "        \"with_crew\": True if launch[\"crew\"] else False\n",
    "    } for launch in launches_data]\n",
    "\n",
    "    # Створюємо DataFrame\n",
    "    df_launches = pd.DataFrame(launches)\n",
    "    return df_launches"
   ]
  },
  {
   "cell_type": "markdown",
   "id": "2d565a19-0c7c-4ed2-8eb8-3d00396a72fb",
   "metadata": {},
   "source": [
    "### Initialization of Spark and create spark.DataFrame"
   ]
  },
  {
   "cell_type": "code",
   "execution_count": 4,
   "id": "f702225d-3a09-42e7-9c66-1550d87cf0e2",
   "metadata": {},
   "outputs": [],
   "source": [
    "spark = SparkSession.builder \\\n",
    "                    .appName(\"SpaceX Data Processing Lab\") \\\n",
    "                    .getOrCreate()"
   ]
  },
  {
   "cell_type": "code",
   "execution_count": 5,
   "id": "63cd4245-cdad-41ca-a0b7-8c374d6cd5fb",
   "metadata": {},
   "outputs": [
    {
     "name": "stdout",
     "output_type": "stream",
     "text": [
      "+-------------+--------------------+-------------------+--------------------+--------------------+-------+---------+\n",
      "|flight_number|                name|           date_utc|             details|              rocket|success|with_crew|\n",
      "+-------------+--------------------+-------------------+--------------------+--------------------+-------+---------+\n",
      "|            1|           FalconSat|2006-03-24 22:30:00|Engine failure at...|5e9d0d95eda69955f...|  false|    false|\n",
      "|            2|             DemoSat|2007-03-21 01:10:00|Successful first ...|5e9d0d95eda69955f...|  false|    false|\n",
      "|            3|         Trailblazer|2008-08-03 03:34:00|Residual stage 1 ...|5e9d0d95eda69955f...|  false|    false|\n",
      "|            4|              RatSat|2008-09-28 23:15:00|Ratsat was carrie...|5e9d0d95eda69955f...|   true|    false|\n",
      "|            5|            RazakSat|2009-07-13 03:35:00|                NULL|5e9d0d95eda69955f...|   true|    false|\n",
      "|            6|Falcon 9 Test Flight|2010-06-04 18:45:00|                NULL|5e9d0d95eda69973a...|   true|    false|\n",
      "|            7|              COTS 1|2010-12-08 15:43:00|                NULL|5e9d0d95eda69973a...|   true|    false|\n",
      "|            8|              COTS 2|2012-05-22 07:44:00|Launch was scrubb...|5e9d0d95eda69973a...|   true|    false|\n",
      "|            9|               CRS-1|2012-10-08 00:35:00|CRS-1 successful,...|5e9d0d95eda69973a...|   true|    false|\n",
      "|           10|               CRS-2|2013-03-01 19:10:00|Last launch of th...|5e9d0d95eda69973a...|   true|    false|\n",
      "|           11|            CASSIOPE|2013-09-29 16:00:00|Commercial missio...|5e9d0d95eda69973a...|   true|    false|\n",
      "|           12|               SES-8|2013-12-03 22:41:00|First GTO launch ...|5e9d0d95eda69973a...|   true|    false|\n",
      "|           13|           Thaicom 6|2014-01-06 18:06:00|Second GTO launch...|5e9d0d95eda69973a...|   true|    false|\n",
      "|           14|               CRS-3|2014-04-18 19:25:00|Following second-...|5e9d0d95eda69973a...|   true|    false|\n",
      "|           15|      OG-2 Mission 1|2014-07-14 15:15:00|Total payload mas...|5e9d0d95eda69973a...|   true|    false|\n",
      "|           16|           AsiaSat 8|2014-08-05 08:00:00|                NULL|5e9d0d95eda69973a...|   true|    false|\n",
      "|           17|           AsiaSat 6|2014-09-07 05:00:00|                NULL|5e9d0d95eda69973a...|   true|    false|\n",
      "|           18|               CRS-4|2014-09-21 05:52:00|                NULL|5e9d0d95eda69973a...|   true|    false|\n",
      "|           19|               CRS-5|2015-01-10 09:47:00|Following second ...|5e9d0d95eda69973a...|   true|    false|\n",
      "|           20|              DSCOVR|2015-02-11 23:03:00|First launch unde...|5e9d0d95eda69973a...|   true|    false|\n",
      "+-------------+--------------------+-------------------+--------------------+--------------------+-------+---------+\n",
      "only showing top 20 rows\n",
      "\n",
      "[('flight_number', 'bigint'), ('name', 'string'), ('date_utc', 'timestamp'), ('details', 'string'), ('rocket', 'string'), ('success', 'boolean'), ('with_crew', 'boolean')]\n"
     ]
    }
   ],
   "source": [
    "# Константи\n",
    "BASE_URL = \"https://api.spacexdata.com/v5/launches\"\n",
    "\n",
    "# Виклик функції отримання даних з API як датафрейм\n",
    "df_launches = load_data(BASE_URL)\n",
    "\n",
    "# Створення spark.DataFrame'у\n",
    "launches_df = spark.createDataFrame(df_launches)\n",
    "\n",
    "# Вивід даних\n",
    "launches_df.show()\n",
    "print(launches_df.dtypes)"
   ]
  },
  {
   "cell_type": "markdown",
   "id": "c85e4e2d-957a-48d1-8ab7-aba6a1f1297f",
   "metadata": {},
   "source": [
    "### Filter launches with crews"
   ]
  },
  {
   "cell_type": "code",
   "execution_count": 6,
   "id": "1097b1cd-749c-4e52-8ec1-05fe70cdce9e",
   "metadata": {},
   "outputs": [
    {
     "name": "stdout",
     "output_type": "stream",
     "text": [
      "+-------------+--------------------+-------------------+--------------------+--------------------+-------+---------+\n",
      "|flight_number|                name|           date_utc|             details|              rocket|success|with_crew|\n",
      "+-------------+--------------------+-------------------+--------------------+--------------------+-------+---------+\n",
      "|           94|CCtCap Demo Missi...|2020-05-30 19:22:00|SpaceX will launc...|5e9d0d95eda69973a...|   true|     true|\n",
      "|          107|              Crew-1|2020-11-16 00:27:00|SpaceX will launc...|5e9d0d95eda69973a...|   true|     true|\n",
      "|          123|              Crew-2|2021-04-23 09:49:00|SpaceX launches t...|5e9d0d95eda69973a...|   true|     true|\n",
      "|          135|        Inspiration4|2021-09-16 00:02:00|Inspiration4 is t...|5e9d0d95eda69973a...|   true|     true|\n",
      "|          136|              Crew-3|2021-11-11 02:03:00|SpaceX will launc...|5e9d0d95eda69973a...|   true|     true|\n",
      "|          156|                Ax-1|2022-04-08 15:17:00|Axiom Mission 1 (...|5e9d0d95eda69973a...|   true|     true|\n",
      "|          159|              Crew-4|2022-04-27 07:52:00|                NULL|5e9d0d95eda69973a...|   true|     true|\n",
      "|          187|              Crew-5|2022-10-05 16:00:00|                NULL|5e9d0d95eda69973a...|   true|     true|\n",
      "+-------------+--------------------+-------------------+--------------------+--------------------+-------+---------+\n",
      "\n"
     ]
    }
   ],
   "source": [
    "launches_with_crew_df = launches_df.filter(launches_df.with_crew)\n",
    "launches_with_crew_df.show()"
   ]
  },
  {
   "cell_type": "markdown",
   "id": "a46d4679-9c84-4d04-a0da-7aaa07e5fccc",
   "metadata": {},
   "source": [
    "### Calculate success rate"
   ]
  },
  {
   "cell_type": "code",
   "execution_count": 7,
   "id": "4bb4df5a-3531-4cf0-a6ac-04a80d528392",
   "metadata": {},
   "outputs": [
    {
     "name": "stdout",
     "output_type": "stream",
     "text": [
      "Rate of successful launches with crews -> 100.0%\n"
     ]
    }
   ],
   "source": [
    "success_rate = (launches_with_crew_df.filter(launches_with_crew_df.success).count() / launches_with_crew_df.count()) * 100\n",
    "print(f\"Rate of successful launches with crews -> {success_rate}%\")"
   ]
  },
  {
   "cell_type": "code",
   "execution_count": 8,
   "id": "0853c639-c742-4964-aa0c-54bc7239946b",
   "metadata": {},
   "outputs": [],
   "source": [
    "spark.stop()"
   ]
  },
  {
   "cell_type": "code",
   "execution_count": null,
   "id": "22a1e02c-cfb7-4a45-9ac7-be5609b7cecc",
   "metadata": {},
   "outputs": [],
   "source": []
  }
 ],
 "metadata": {
  "kernelspec": {
   "display_name": "Python 3 (ipykernel)",
   "language": "python",
   "name": "python3"
  },
  "language_info": {
   "codemirror_mode": {
    "name": "ipython",
    "version": 3
   },
   "file_extension": ".py",
   "mimetype": "text/x-python",
   "name": "python",
   "nbconvert_exporter": "python",
   "pygments_lexer": "ipython3",
   "version": "3.11.6"
  }
 },
 "nbformat": 4,
 "nbformat_minor": 5
}
