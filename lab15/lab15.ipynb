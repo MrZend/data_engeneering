{
 "cells": [
  {
   "cell_type": "markdown",
   "id": "2b5d3d69-5abb-40e1-bf87-a5c4cf2a45de",
   "metadata": {},
   "source": [
    "## Great Expectations"
   ]
  },
  {
   "cell_type": "markdown",
   "id": "a254a55e-f87c-40a4-bb47-fa3e89bdd383",
   "metadata": {},
   "source": [
    "### Install neccessary packages"
   ]
  },
  {
   "cell_type": "code",
   "execution_count": 67,
   "id": "5262ce01-da38-4bd9-96e3-76006f26dc7f",
   "metadata": {},
   "outputs": [
    {
     "name": "stdout",
     "output_type": "stream",
     "text": [
      "Requirement already satisfied: delta-spark==3.2.0 in /opt/conda/lib/python3.11/site-packages (3.2.0)\n",
      "Requirement already satisfied: great_expectations==1.3.3 in /opt/conda/lib/python3.11/site-packages (1.3.3)\n",
      "Requirement already satisfied: pyspark<3.6.0,>=3.5.0 in /usr/local/spark/python (from delta-spark==3.2.0) (3.5.0)\n",
      "Requirement already satisfied: importlib-metadata>=1.0.0 in /opt/conda/lib/python3.11/site-packages (from delta-spark==3.2.0) (6.8.0)\n",
      "Requirement already satisfied: altair<5.0.0,>=4.2.1 in /opt/conda/lib/python3.11/site-packages (from great_expectations==1.3.3) (4.2.2)\n",
      "Requirement already satisfied: cryptography>=3.2 in /opt/conda/lib/python3.11/site-packages (from great_expectations==1.3.3) (41.0.4)\n",
      "Requirement already satisfied: jinja2>=2.10 in /opt/conda/lib/python3.11/site-packages (from great_expectations==1.3.3) (3.1.2)\n",
      "Requirement already satisfied: jsonschema>=2.5.1 in /opt/conda/lib/python3.11/site-packages (from great_expectations==1.3.3) (4.19.1)\n",
      "Requirement already satisfied: marshmallow<4.0.0,>=3.7.1 in /opt/conda/lib/python3.11/site-packages (from great_expectations==1.3.3) (3.26.0)\n",
      "Requirement already satisfied: mistune>=0.8.4 in /opt/conda/lib/python3.11/site-packages (from great_expectations==1.3.3) (3.0.1)\n",
      "Requirement already satisfied: packaging in /opt/conda/lib/python3.11/site-packages (from great_expectations==1.3.3) (23.2)\n",
      "Requirement already satisfied: posthog<4,>3 in /opt/conda/lib/python3.11/site-packages (from great_expectations==1.3.3) (3.9.3)\n",
      "Requirement already satisfied: pydantic>=1.10.7 in /opt/conda/lib/python3.11/site-packages (from great_expectations==1.3.3) (2.10.5)\n",
      "Requirement already satisfied: pyparsing>=2.4 in /opt/conda/lib/python3.11/site-packages (from great_expectations==1.3.3) (3.1.1)\n",
      "Requirement already satisfied: python-dateutil>=2.8.1 in /opt/conda/lib/python3.11/site-packages (from great_expectations==1.3.3) (2.8.2)\n",
      "Requirement already satisfied: requests>=2.20 in /opt/conda/lib/python3.11/site-packages (from great_expectations==1.3.3) (2.31.0)\n",
      "Requirement already satisfied: ruamel.yaml>=0.16 in /opt/conda/lib/python3.11/site-packages (from great_expectations==1.3.3) (0.17.17)\n",
      "Requirement already satisfied: scipy>=1.6.0 in /opt/conda/lib/python3.11/site-packages (from great_expectations==1.3.3) (1.11.3)\n",
      "Requirement already satisfied: tqdm>=4.59.0 in /opt/conda/lib/python3.11/site-packages (from great_expectations==1.3.3) (4.66.1)\n",
      "Requirement already satisfied: typing-extensions>=4.1.0 in /opt/conda/lib/python3.11/site-packages (from great_expectations==1.3.3) (4.12.2)\n",
      "Requirement already satisfied: tzlocal>=1.2 in /opt/conda/lib/python3.11/site-packages (from great_expectations==1.3.3) (5.2)\n",
      "Requirement already satisfied: numpy>=1.22.4 in /opt/conda/lib/python3.11/site-packages (from great_expectations==1.3.3) (1.24.4)\n",
      "Requirement already satisfied: pandas<2.2,>=1.3.0 in /opt/conda/lib/python3.11/site-packages (from great_expectations==1.3.3) (2.0.3)\n",
      "Requirement already satisfied: entrypoints in /opt/conda/lib/python3.11/site-packages (from altair<5.0.0,>=4.2.1->great_expectations==1.3.3) (0.4)\n",
      "Requirement already satisfied: toolz in /opt/conda/lib/python3.11/site-packages (from altair<5.0.0,>=4.2.1->great_expectations==1.3.3) (0.12.0)\n",
      "Requirement already satisfied: cffi>=1.12 in /opt/conda/lib/python3.11/site-packages (from cryptography>=3.2->great_expectations==1.3.3) (1.16.0)\n",
      "Requirement already satisfied: zipp>=0.5 in /opt/conda/lib/python3.11/site-packages (from importlib-metadata>=1.0.0->delta-spark==3.2.0) (3.17.0)\n",
      "Requirement already satisfied: MarkupSafe>=2.0 in /opt/conda/lib/python3.11/site-packages (from jinja2>=2.10->great_expectations==1.3.3) (2.1.3)\n",
      "Requirement already satisfied: attrs>=22.2.0 in /opt/conda/lib/python3.11/site-packages (from jsonschema>=2.5.1->great_expectations==1.3.3) (23.1.0)\n",
      "Requirement already satisfied: jsonschema-specifications>=2023.03.6 in /opt/conda/lib/python3.11/site-packages (from jsonschema>=2.5.1->great_expectations==1.3.3) (2023.7.1)\n",
      "Requirement already satisfied: referencing>=0.28.4 in /opt/conda/lib/python3.11/site-packages (from jsonschema>=2.5.1->great_expectations==1.3.3) (0.30.2)\n",
      "Requirement already satisfied: rpds-py>=0.7.1 in /opt/conda/lib/python3.11/site-packages (from jsonschema>=2.5.1->great_expectations==1.3.3) (0.10.6)\n",
      "Requirement already satisfied: pytz>=2020.1 in /opt/conda/lib/python3.11/site-packages (from pandas<2.2,>=1.3.0->great_expectations==1.3.3) (2023.3.post1)\n",
      "Requirement already satisfied: tzdata>=2022.1 in /opt/conda/lib/python3.11/site-packages (from pandas<2.2,>=1.3.0->great_expectations==1.3.3) (2023.3)\n",
      "Requirement already satisfied: six>=1.5 in /opt/conda/lib/python3.11/site-packages (from posthog<4,>3->great_expectations==1.3.3) (1.16.0)\n",
      "Requirement already satisfied: monotonic>=1.5 in /opt/conda/lib/python3.11/site-packages (from posthog<4,>3->great_expectations==1.3.3) (1.6)\n",
      "Requirement already satisfied: backoff>=1.10.0 in /opt/conda/lib/python3.11/site-packages (from posthog<4,>3->great_expectations==1.3.3) (2.2.1)\n",
      "Requirement already satisfied: annotated-types>=0.6.0 in /opt/conda/lib/python3.11/site-packages (from pydantic>=1.10.7->great_expectations==1.3.3) (0.7.0)\n",
      "Requirement already satisfied: pydantic-core==2.27.2 in /opt/conda/lib/python3.11/site-packages (from pydantic>=1.10.7->great_expectations==1.3.3) (2.27.2)\n",
      "Requirement already satisfied: py4j==0.10.9.7 in /opt/conda/lib/python3.11/site-packages (from pyspark<3.6.0,>=3.5.0->delta-spark==3.2.0) (0.10.9.7)\n",
      "Requirement already satisfied: charset-normalizer<4,>=2 in /opt/conda/lib/python3.11/site-packages (from requests>=2.20->great_expectations==1.3.3) (3.3.0)\n",
      "Requirement already satisfied: idna<4,>=2.5 in /opt/conda/lib/python3.11/site-packages (from requests>=2.20->great_expectations==1.3.3) (3.4)\n",
      "Requirement already satisfied: urllib3<3,>=1.21.1 in /opt/conda/lib/python3.11/site-packages (from requests>=2.20->great_expectations==1.3.3) (2.0.7)\n",
      "Requirement already satisfied: certifi>=2017.4.17 in /opt/conda/lib/python3.11/site-packages (from requests>=2.20->great_expectations==1.3.3) (2023.7.22)\n",
      "Requirement already satisfied: pycparser in /opt/conda/lib/python3.11/site-packages (from cffi>=1.12->cryptography>=3.2->great_expectations==1.3.3) (2.21)\n"
     ]
    }
   ],
   "source": [
    "!pip install delta-spark==3.2.0 great_expectations==1.3.3"
   ]
  },
  {
   "cell_type": "markdown",
   "id": "815e770a-0998-4eca-a29a-52746f6d37bf",
   "metadata": {},
   "source": [
    "### Import neccessary packages"
   ]
  },
  {
   "cell_type": "code",
   "execution_count": 76,
   "id": "23413f16-3c57-46ce-9194-6144f28704a9",
   "metadata": {},
   "outputs": [],
   "source": [
    "from pyspark.sql import SparkSession\n",
    "from pyspark.sql.types import StructType, StructField, IntegerType, StringType\n",
    "import great_expectations as gx"
   ]
  },
  {
   "cell_type": "markdown",
   "id": "c43f89fd-d989-4a0e-a1d9-4eb14b5eae81",
   "metadata": {},
   "source": [
    "### Initialize Spark-session with DeltaLake support"
   ]
  },
  {
   "cell_type": "code",
   "execution_count": 78,
   "id": "8e01254a-0373-4620-9f89-4b29f0d72b7d",
   "metadata": {},
   "outputs": [],
   "source": [
    "spark = SparkSession.builder \\\n",
    "    .appName(\"SupplierDataQuality\") \\\n",
    "    .config(\"spark.jars.packages\", \"io.delta:delta-spark_2.12:3.2.0\") \\\n",
    "    .config(\"spark.sql.extensions\", \"io.delta.sql.DeltaSparkSessionExtension\") \\\n",
    "    .config(\"spark.sql.catalog.spark_catalog\", \"org.apache.spark.sql.delta.catalog.DeltaCatalog\") \\\n",
    "    .getOrCreate()"
   ]
  },
  {
   "cell_type": "markdown",
   "id": "d7afecd1-2b41-41e1-81cd-bb9d365c1ed9",
   "metadata": {},
   "source": [
    "### Specify Schema and load data"
   ]
  },
  {
   "cell_type": "code",
   "execution_count": 79,
   "id": "53289932-3413-498a-9f58-55ce03159e0b",
   "metadata": {},
   "outputs": [
    {
     "name": "stdout",
     "output_type": "stream",
     "text": [
      "+-----------+-------------+---------------------+-------------+------------+\n",
      "|supplier_id|supplier_name|contact_email        |contact_phone|address     |\n",
      "+-----------+-------------+---------------------+-------------+------------+\n",
      "|1          |Supplier A   |supplierA@example.com|1234567890   |123 Main St |\n",
      "|2          |NULL         |supplierB@example.com|NULL         |456 Oak St  |\n",
      "|3          |Supplier C   |supplierCexample.com |9876543210   |789 Pine St |\n",
      "|4          |Supplier D   |NULL                 |7896541230   |NULL        |\n",
      "|5          |Supplier E   |supplierE@example.com|NULL         |101 Birch St|\n",
      "+-----------+-------------+---------------------+-------------+------------+\n",
      "\n"
     ]
    }
   ],
   "source": [
    "schema = StructType([\n",
    "    StructField(\"supplier_id\", IntegerType(), True),\n",
    "    StructField(\"supplier_name\", StringType(), True),\n",
    "    StructField(\"contact_email\", StringType(), True),\n",
    "    StructField(\"contact_phone\", StringType(), True),\n",
    "    StructField(\"address\", StringType(), True)\n",
    "])\n",
    "\n",
    "df = spark.read.csv(\"/home/jovyan/work/lab15/data/data.csv\", header=True, schema=schema)\n",
    "df.show(truncate=False)"
   ]
  },
  {
   "cell_type": "markdown",
   "id": "242ee92b-8757-4fff-b3b8-e328a14fd30b",
   "metadata": {},
   "source": [
    "### Work with Great Expectations"
   ]
  },
  {
   "cell_type": "markdown",
   "id": "48e955d7-3df4-424e-9610-cf5c71741f6f",
   "metadata": {},
   "source": [
    "Оскільки приклад в лабораторній був зроблений для старої версії great_expectations пакету та старої версії python, то було вирішино\n",
    "виконати ЛР на найновішій версії great_expectations пакету, щоб не заморачуватися з міграцією на іншу версію python та пакету. Та навчимось працювати з даним пакетом в сучасній манері.\n"
   ]
  },
  {
   "cell_type": "code",
   "execution_count": 80,
   "id": "216baf15-dc15-4a0e-b5e4-3624c173d845",
   "metadata": {},
   "outputs": [
    {
     "name": "stderr",
     "output_type": "stream",
     "text": [
      "INFO:great_expectations.data_context.types.base:Created temporary directory '/tmp/tmpwia7ptxn' for ephemeral docs site\n"
     ]
    },
    {
     "data": {
      "application/vnd.jupyter.widget-view+json": {
       "model_id": "6c2209a3b92e438d8c24d0914a71419c",
       "version_major": 2,
       "version_minor": 0
      },
      "text/plain": [
       "Calculating Metrics:   0%|          | 0/10 [00:00<?, ?it/s]"
      ]
     },
     "metadata": {},
     "output_type": "display_data"
    },
    {
     "data": {
      "application/vnd.jupyter.widget-view+json": {
       "model_id": "ba783d1875034b8583792e70abdfb867",
       "version_major": 2,
       "version_minor": 0
      },
      "text/plain": [
       "Calculating Metrics:   0%|          | 0/13 [00:00<?, ?it/s]"
      ]
     },
     "metadata": {},
     "output_type": "display_data"
    },
    {
     "data": {
      "application/vnd.jupyter.widget-view+json": {
       "model_id": "8ff1b6362e7c48dfb118bffbf3dd8b3c",
       "version_major": 2,
       "version_minor": 0
      },
      "text/plain": [
       "Calculating Metrics:   0%|          | 0/10 [00:00<?, ?it/s]"
      ]
     },
     "metadata": {},
     "output_type": "display_data"
    },
    {
     "name": "stdout",
     "output_type": "stream",
     "text": [
      "+-------------+------+-----------------------------------+----------------+-------------+------------------+-------+\n",
      "|column       |status|expectation_type                   |unexpected_count|element_count|unexpected_percent|percent|\n",
      "+-------------+------+-----------------------------------+----------------+-------------+------------------+-------+\n",
      "|supplier_name|FAILED|expect_column_values_to_not_be_null|1               |5            |20.0              |80.0   |\n",
      "|contact_email|FAILED|expect_column_values_to_match_regex|1               |5            |25.0              |75.0   |\n",
      "|address      |FAILED|expect_column_values_to_not_be_null|1               |5            |20.0              |80.0   |\n",
      "+-------------+------+-----------------------------------+----------------+-------------+------------------+-------+\n",
      "\n"
     ]
    }
   ],
   "source": [
    "# Отримання контексту Great Expectations\n",
    "context = gx.get_context()\n",
    "\n",
    "# Ініціалізуємо назву DataSource\n",
    "data_source_name = \"suppliers_data\"\n",
    "\n",
    "# Додаємо DataSource в контекст\n",
    "data_source = context.data_sources.add_spark(name=data_source_name)\n",
    "\n",
    "# Визначаємо назву DataAsset'у\n",
    "data_asset_name = \"supplier_data_asset\"\n",
    "\n",
    "# Додаємо DataAsset в DataSource\n",
    "data_asset = data_source.add_dataframe_asset(name=data_asset_name)\n",
    "\n",
    "# Визначаємо назву Batcha\n",
    "batch_definition_name = \"supplier_batch_definition\"\n",
    "\n",
    "# Додаємо Batch до DataAsset'у\n",
    "batch_definition = data_asset.add_batch_definition_whole_dataframe(\n",
    "    batch_definition_name\n",
    ")\n",
    "\n",
    "# Додаємо створений dataframe до параметрів Batch\n",
    "batch_parameters = {\"dataframe\": df}\n",
    "\n",
    "# Додаємо правила перевірки\n",
    "expectations = [\n",
    "    gx.expectations.ExpectColumnValuesToNotBeNull(column=\"supplier_name\"),\n",
    "    gx.expectations.ExpectColumnValuesToMatchRegex(\n",
    "        column=\"contact_email\", regex=r'^[a-zA-Z0-9_.+-]+@[a-zA-Z0-9-]+\\.[a-zA-Z0-9-.]+$'\n",
    "    ),\n",
    "    gx.expectations.ExpectColumnValuesToNotBeNull(column=\"address\")\n",
    "]\n",
    "\n",
    "# Отримання Batch\n",
    "batch = batch_definition.get_batch(batch_parameters=batch_parameters)\n",
    "\n",
    "# Виконуємо перевірки\n",
    "validation_results = [batch.validate(expectation) for expectation in expectations]\n",
    "\n",
    "# Отримуємо дані перевірки та заносимо їх в DataFrame\n",
    "dq_data = []\n",
    "for result in validation_results:\n",
    "    if result[\"success\"] == True:\n",
    "        status = 'PASSED'\n",
    "    else:\n",
    "        status = 'FAILED'\n",
    "    dq_data.append((\n",
    "        result[\"expectation_config\"][\"kwargs\"][\"column\"],\n",
    "        status,\n",
    "        result[\"expectation_config\"][\"type\"],\n",
    "        result[\"result\"][\"unexpected_count\"],\n",
    "        result[\"result\"][\"element_count\"],\n",
    "        result[\"result\"][\"unexpected_percent\"],\n",
    "        float(100-result[\"result\"][\"unexpected_percent\"])\n",
    "    ))\n",
    "dq_columns = [\"column\", \"status\", \"expectation_type\", \"unexpected_count\", \"element_count\", \"unexpected_percent\", \"percent\"]\n",
    "dq_df = spark.createDataFrame(data=dq_data,schema=dq_columns)\n",
    "\n",
    "dq_df.show(truncate=False)"
   ]
  },
  {
   "cell_type": "markdown",
   "id": "ee4bc1a0-4dd9-4a8e-a11d-f70a45f730dd",
   "metadata": {},
   "source": [
    "### Write dataquality information to delta"
   ]
  },
  {
   "cell_type": "code",
   "execution_count": 65,
   "id": "c69f2ec4-3e4d-4570-befe-d5401fa8b557",
   "metadata": {},
   "outputs": [],
   "source": [
    "dq_df.write.format(\"delta\").mode(\"overwrite\").save(\"/home/jovyan/work/lab15/processed_data\")"
   ]
  },
  {
   "cell_type": "markdown",
   "id": "27732f1b-1de1-4def-804f-50a1a78b08f6",
   "metadata": {},
   "source": [
    "### Check and show data from DeltaTable"
   ]
  },
  {
   "cell_type": "code",
   "execution_count": 66,
   "id": "0c60da00-ab38-457f-b321-1f2432bfba1b",
   "metadata": {},
   "outputs": [
    {
     "name": "stdout",
     "output_type": "stream",
     "text": [
      "+-------------+------+-----------------------------------+----------------+-------------+------------------+-------+\n",
      "|column       |status|expectation_type                   |unexpected_count|element_count|unexpected_percent|percent|\n",
      "+-------------+------+-----------------------------------+----------------+-------------+------------------+-------+\n",
      "|supplier_name|FAILED|expect_column_values_to_not_be_null|1               |5            |20.0              |80.0   |\n",
      "|contact_email|PASSED|expect_column_values_to_match_regex|0               |5            |0.0               |100.0  |\n",
      "|address      |FAILED|expect_column_values_to_not_be_null|1               |5            |20.0              |80.0   |\n",
      "+-------------+------+-----------------------------------+----------------+-------------+------------------+-------+\n",
      "\n"
     ]
    }
   ],
   "source": [
    "processed_df = spark.read.format(\"delta\").load(\"/home/jovyan/work/lab15/processed_data\")\n",
    "\n",
    "processed_df.show(truncate=False)"
   ]
  },
  {
   "cell_type": "code",
   "execution_count": 77,
   "id": "6bf51c0c-e8f3-470e-838f-83df7d08b561",
   "metadata": {},
   "outputs": [],
   "source": [
    "spark.stop()"
   ]
  },
  {
   "cell_type": "code",
   "execution_count": null,
   "id": "762d8745-d0c7-4da6-98b3-009eb80170cd",
   "metadata": {},
   "outputs": [],
   "source": []
  }
 ],
 "metadata": {
  "kernelspec": {
   "display_name": "Python 3 (ipykernel)",
   "language": "python",
   "name": "python3"
  },
  "language_info": {
   "codemirror_mode": {
    "name": "ipython",
    "version": 3
   },
   "file_extension": ".py",
   "mimetype": "text/x-python",
   "name": "python",
   "nbconvert_exporter": "python",
   "pygments_lexer": "ipython3",
   "version": "3.11.6"
  }
 },
 "nbformat": 4,
 "nbformat_minor": 5
}
