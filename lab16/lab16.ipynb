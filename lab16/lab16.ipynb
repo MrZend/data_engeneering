{
 "cells": [
  {
   "cell_type": "markdown",
   "id": "2b5d3d69-5abb-40e1-bf87-a5c4cf2a45de",
   "metadata": {},
   "source": [
    "## Nifi"
   ]
  },
  {
   "cell_type": "markdown",
   "id": "a254a55e-f87c-40a4-bb47-fa3e89bdd383",
   "metadata": {},
   "source": [
    "### Install neccessary packages"
   ]
  },
  {
   "cell_type": "code",
   "execution_count": 1,
   "id": "5262ce01-da38-4bd9-96e3-76006f26dc7f",
   "metadata": {},
   "outputs": [
    {
     "name": "stdout",
     "output_type": "stream",
     "text": [
      "Requirement already satisfied: delta-spark==3.2.0 in /opt/conda/lib/python3.11/site-packages (3.2.0)\n",
      "Requirement already satisfied: pyspark<3.6.0,>=3.5.0 in /usr/local/spark/python (from delta-spark==3.2.0) (3.5.0)\n",
      "Requirement already satisfied: importlib-metadata>=1.0.0 in /opt/conda/lib/python3.11/site-packages (from delta-spark==3.2.0) (6.8.0)\n",
      "Requirement already satisfied: zipp>=0.5 in /opt/conda/lib/python3.11/site-packages (from importlib-metadata>=1.0.0->delta-spark==3.2.0) (3.17.0)\n",
      "Requirement already satisfied: py4j==0.10.9.7 in /opt/conda/lib/python3.11/site-packages (from pyspark<3.6.0,>=3.5.0->delta-spark==3.2.0) (0.10.9.7)\n"
     ]
    }
   ],
   "source": [
    "!pip install delta-spark==3.2.0"
   ]
  },
  {
   "cell_type": "markdown",
   "id": "815e770a-0998-4eca-a29a-52746f6d37bf",
   "metadata": {},
   "source": [
    "### Import neccessary packages"
   ]
  },
  {
   "cell_type": "code",
   "execution_count": 3,
   "id": "23413f16-3c57-46ce-9194-6144f28704a9",
   "metadata": {},
   "outputs": [],
   "source": [
    "from pyspark.sql import SparkSession"
   ]
  },
  {
   "cell_type": "markdown",
   "id": "c43f89fd-d989-4a0e-a1d9-4eb14b5eae81",
   "metadata": {},
   "source": [
    "### Initialize Spark-session with DeltaLake support"
   ]
  },
  {
   "cell_type": "code",
   "execution_count": 4,
   "id": "8e01254a-0373-4620-9f89-4b29f0d72b7d",
   "metadata": {},
   "outputs": [],
   "source": [
    "spark = SparkSession.builder \\\n",
    "    .appName(\"Nifi\") \\\n",
    "    .config(\"spark.jars.packages\", \"io.delta:delta-spark_2.12:3.2.0\") \\\n",
    "    .config(\"spark.sql.extensions\", \"io.delta.sql.DeltaSparkSessionExtension\") \\\n",
    "    .config(\"spark.sql.catalog.spark_catalog\", \"org.apache.spark.sql.delta.catalog.DeltaCatalog\") \\\n",
    "    .getOrCreate()"
   ]
  },
  {
   "cell_type": "markdown",
   "id": "d7afecd1-2b41-41e1-81cd-bb9d365c1ed9",
   "metadata": {},
   "source": [
    "### Load anonimous data"
   ]
  },
  {
   "cell_type": "code",
   "execution_count": 6,
   "id": "53289932-3413-498a-9f58-55ce03159e0b",
   "metadata": {},
   "outputs": [
    {
     "name": "stdout",
     "output_type": "stream",
     "text": [
      "+----------+--------------+----------------------------------------------------------------+----------+-------+\n",
      "|vehicle_id|vin           |customer_id                                                     |brand     |model  |\n",
      "+----------+--------------+----------------------------------------------------------------+----------+-------+\n",
      "|1         |XXXXXXX-123456|ef797c8118f02dfb649607dd5d3f8c7623048c9c063d532cc95c5ed7a898a64f|Toyota    |Corolla|\n",
      "|2         |XXXXXXX-987654|e24df920078c3dd4e7e8d2442f00e5c9ab2a231bb3918d65cc50906e49ecaef4|Honda     |Civic  |\n",
      "|3         |XXXXXXX-654321|4f9f10b304cfe9b2b11fcb1387f694e18f08ea358c7e9f567434d3ad6cbd7fc4|Volkswagen|Passat |\n",
      "|4         |XXXXXXX-789012|2d47f8cd71fe27592e3c3a591f5372cc5081a85fcb947e321934325c27a32f40|Toyota    |Camry  |\n",
      "+----------+--------------+----------------------------------------------------------------+----------+-------+\n",
      "\n"
     ]
    }
   ],
   "source": [
    "df_anonym = spark.read.csv(\"/home/jovyan/work/lab16/data/029b3f42-c94d-4fe5-9025-cec6a60af205\", header=True)\n",
    "df_anonym.show(truncate=False)"
   ]
  },
  {
   "cell_type": "code",
   "execution_count": 83,
   "id": "6bf51c0c-e8f3-470e-838f-83df7d08b561",
   "metadata": {},
   "outputs": [],
   "source": [
    "spark.stop()"
   ]
  },
  {
   "cell_type": "code",
   "execution_count": null,
   "id": "762d8745-d0c7-4da6-98b3-009eb80170cd",
   "metadata": {},
   "outputs": [],
   "source": []
  }
 ],
 "metadata": {
  "kernelspec": {
   "display_name": "Python 3 (ipykernel)",
   "language": "python",
   "name": "python3"
  },
  "language_info": {
   "codemirror_mode": {
    "name": "ipython",
    "version": 3
   },
   "file_extension": ".py",
   "mimetype": "text/x-python",
   "name": "python",
   "nbconvert_exporter": "python",
   "pygments_lexer": "ipython3",
   "version": "3.11.6"
  }
 },
 "nbformat": 4,
 "nbformat_minor": 5
}
