{
 "cells": [
  {
   "cell_type": "markdown",
   "id": "4ca9c79e-ec7f-42bd-9ebb-a11a0f86a31d",
   "metadata": {},
   "source": [
    "## Install neccessary packages "
   ]
  },
  {
   "cell_type": "code",
   "execution_count": 3,
   "id": "93342313-2a79-44f3-a56e-2cf32f82355e",
   "metadata": {},
   "outputs": [
    {
     "name": "stdout",
     "output_type": "stream",
     "text": [
      "Collecting pandas\n",
      "  Downloading pandas-2.2.3-cp312-cp312-manylinux2014_aarch64.manylinux_2_17_aarch64.whl.metadata (89 kB)\n",
      "Collecting numpy\n",
      "  Downloading numpy-2.2.2-cp312-cp312-manylinux_2_17_aarch64.manylinux2014_aarch64.whl.metadata (63 kB)\n",
      "Requirement already satisfied: requests in /usr/local/lib/python3.12/site-packages (2.32.3)\n",
      "Requirement already satisfied: python-dateutil>=2.8.2 in /usr/local/lib/python3.12/site-packages (from pandas) (2.9.0.post0)\n",
      "Collecting pytz>=2020.1 (from pandas)\n",
      "  Downloading pytz-2024.2-py2.py3-none-any.whl.metadata (22 kB)\n",
      "Collecting tzdata>=2022.7 (from pandas)\n",
      "  Downloading tzdata-2024.2-py2.py3-none-any.whl.metadata (1.4 kB)\n",
      "Requirement already satisfied: charset-normalizer<4,>=2 in /usr/local/lib/python3.12/site-packages (from requests) (3.4.1)\n",
      "Requirement already satisfied: idna<4,>=2.5 in /usr/local/lib/python3.12/site-packages (from requests) (3.10)\n",
      "Requirement already satisfied: urllib3<3,>=1.21.1 in /usr/local/lib/python3.12/site-packages (from requests) (2.3.0)\n",
      "Requirement already satisfied: certifi>=2017.4.17 in /usr/local/lib/python3.12/site-packages (from requests) (2024.12.14)\n",
      "Requirement already satisfied: six>=1.5 in /usr/local/lib/python3.12/site-packages (from python-dateutil>=2.8.2->pandas) (1.17.0)\n",
      "Downloading pandas-2.2.3-cp312-cp312-manylinux2014_aarch64.manylinux_2_17_aarch64.whl (15.2 MB)\n",
      "\u001b[2K   \u001b[90m━━━━━━━━━━━━━━━━━━━━━━━━━━━━━━━━━━━━━━━━\u001b[0m \u001b[32m15.2/15.2 MB\u001b[0m \u001b[31m22.5 MB/s\u001b[0m eta \u001b[36m0:00:00\u001b[0ma \u001b[36m0:00:01\u001b[0m\n",
      "Downloading numpy-2.2.2-cp312-cp312-manylinux_2_17_aarch64.manylinux2014_aarch64.whl (14.0 MB)\n",
      "\u001b[2K   \u001b[90m━━━━━━━━━━━━━━━━━━━━━━━━━━━━━━━━━━━━━━━━\u001b[0m \u001b[32m14.0/14.0 MB\u001b[0m \u001b[31m19.9 MB/s\u001b[0m eta \u001b[36m0:00:00\u001b[0ma \u001b[36m0:00:01\u001b[0m\n",
      "Downloading pytz-2024.2-py2.py3-none-any.whl (508 kB)\n",
      "Downloading tzdata-2024.2-py2.py3-none-any.whl (346 kB)\n",
      "Installing collected packages: pytz, tzdata, numpy, pandas\n",
      "Successfully installed numpy-2.2.2 pandas-2.2.3 pytz-2024.2 tzdata-2024.2\n",
      "\u001b[33mWARNING: Running pip as the 'root' user can result in broken permissions and conflicting behaviour with the system package manager, possibly rendering your system unusable.It is recommended to use a virtual environment instead: https://pip.pypa.io/warnings/venv. Use the --root-user-action option if you know what you are doing and want to suppress this warning.\u001b[0m\u001b[33m\n",
      "\u001b[0m"
     ]
    }
   ],
   "source": [
    "!pip install pandas numpy requests"
   ]
  },
  {
   "cell_type": "markdown",
   "id": "6f49b091-1152-4f19-b835-aca254c92b53",
   "metadata": {},
   "source": [
    "### Fetch and process data"
   ]
  },
  {
   "cell_type": "markdown",
   "id": "0caf8d0b-4174-4808-8d3b-d5767a2595fe",
   "metadata": {},
   "source": [
    "### Import neccessary packages"
   ]
  },
  {
   "cell_type": "code",
   "execution_count": 4,
   "id": "767f2fe8-11bd-430b-a02d-76b3b5c0e2b2",
   "metadata": {},
   "outputs": [],
   "source": [
    "import pandas as pd\n",
    "import numpy as np\n",
    "import requests\n",
    "from io import StringIO"
   ]
  },
  {
   "cell_type": "markdown",
   "id": "55f43c75-1913-4f73-ac85-e4b636caba92",
   "metadata": {},
   "source": [
    "### Make helper function for load data. -> return DataFrame"
   ]
  },
  {
   "cell_type": "code",
   "execution_count": 5,
   "id": "b7281814-1009-4a71-8696-df5760dd0759",
   "metadata": {},
   "outputs": [],
   "source": [
    "def load_data(base_url, year, station_id):\n",
    "    url = f\"{base_url}/{year}/{station_id}.csv\"\n",
    "\n",
    "    response = requests.get(url)\n",
    "    data = StringIO(response.text)\n",
    "\n",
    "    return pd.read_csv(data)"
   ]
  },
  {
   "cell_type": "markdown",
   "id": "01d1100f-8c20-4800-838d-3a870d3a7594",
   "metadata": {},
   "source": [
    "### Function for cleaning and transforming data (convert types/values, delete not valid records etc)"
   ]
  },
  {
   "cell_type": "code",
   "execution_count": 8,
   "id": "da0b5825-b7a1-4460-aa57-4433c6bcbf06",
   "metadata": {},
   "outputs": [],
   "source": [
    "def clear_and_tranform_data(df):\n",
    "    # Конвертація колонки DATE в формат datetime\n",
    "    df[\"DATE\"] = pd.to_datetime(df[\"DATE\"])\n",
    "\n",
    "    # Робимо конвертацію колонок TMP та DEW в строку, для того щоб видалити символи контролю якості (останні дві позиції)\n",
    "    df[\"TMP\"] = df[\"TMP\"].astype(str)\n",
    "    df[\"DEW\"] = df[\"DEW\"].astype(str)\n",
    "\n",
    "    # Видаляємо символи контролю якості\n",
    "    df[\"TMP\"] = df[\"TMP\"].str.slice(0, -2)\n",
    "    df[\"DEW\"] = df[\"DEW\"].str.slice(0, -2)\n",
    "\n",
    "    # Робимо конвертацію колонок TMP та DEW в числове значення\n",
    "    df[\"TMP\"] = pd.to_numeric(df[\"TMP\"], errors=\"coerce\")\n",
    "    df[\"DEW\"] = pd.to_numeric(df[\"DEW\"], errors=\"coerce\")\n",
    "\n",
    "    # Позначимо значення для DEW -> 9999; TMP -> 9999, як пропущенні, оскільки в документації до даних вказано, що данні значення вважаються пропущеними\n",
    "    df[\"TMP\"] = df[\"TMP\"].replace(9999, np.nan)\n",
    "    df[\"DEW\"] = df[\"DEW\"].replace(9999, np.nan)\n",
    "    \n",
    "    # Видаляємо записи з пропущеними значеннями для колонок TMP та DEW\n",
    "    df.dropna(subset=[\"TMP\", \"DEW\"], inplace=True)\n",
    "\n",
    "    # Видаляємо дублікати\n",
    "    df.drop_duplicates(inplace=True)\n",
    "\n",
    "    # Оскільки датасет поданий в масштабованому форматі (в документації для полів TMP та DEW вказаний SCALING_FACTOR: TMP, DEW -> 10). То проведемо трансформацію\n",
    "    df[\"TMP\"] = df[\"TMP\"] / 10\n",
    "    df[\"DEW\"] = df[\"DEW\"] / 10\n",
    "\n",
    "    return df"
   ]
  },
  {
   "cell_type": "markdown",
   "id": "2b5dd9cb-3c72-4841-9646-80246f7524ca",
   "metadata": {},
   "source": [
    "### Function for calculate diff of TMP and DEW"
   ]
  },
  {
   "cell_type": "code",
   "execution_count": 9,
   "id": "05dd9459-87e4-4990-9dec-3931ab2ecb69",
   "metadata": {},
   "outputs": [],
   "source": [
    "def calculate_tmp_dew_diff(df):\n",
    "    df[\"Temp_Dew_Diff\"] = df[\"TMP\"] - df[\"DEW\"]\n",
    "    return df"
   ]
  },
  {
   "cell_type": "markdown",
   "id": "7d1d7824-6b0b-40b5-9d59-2eded13f9ee4",
   "metadata": {},
   "source": [
    "### Aggregate data by day of week and calculate mean ratio between TMP and DEW"
   ]
  },
  {
   "cell_type": "code",
   "execution_count": 10,
   "id": "8bc6a6d9-8d34-49e5-860e-9e55c6c29a47",
   "metadata": {},
   "outputs": [],
   "source": [
    "def aggregate_data(df):\n",
    "    # Додаємо нову колонку для ідентифікація дня тижня\n",
    "    df[\"Day_Of_Week\"] = df[\"DATE\"].dt.day_name()\n",
    "\n",
    "    # Агрегуємо дані по дням тижня\n",
    "    aggregated_df = df.groupby(\"Day_Of_Week\").agg({\n",
    "        \"TMP\": [\"mean\", \"max\", \"min\"],\n",
    "        \"DEW\": [\"mean\", \"max\", \"min\"]\n",
    "    })\n",
    "\n",
    "    # Переназиваємо колонки, оскільки після агрегації вони багато рівневими\n",
    "    aggregated_df.columns = ['_'.join(col) for col in aggregated_df.columns]\n",
    "\n",
    "    # Вказуємо порядок днів тижня, оскільки без цього воно виводить їх у алфавітному\n",
    "    day_order = ['Monday', 'Tuesday', 'Wednesday', 'Thursday', 'Friday', 'Saturday', 'Sunday']\n",
    "    aggregated_df = aggregated_df.reindex(day_order)\n",
    "\n",
    "    # Знаходимо середнє співвідношення між колонками TMP та DEW\n",
    "    aggregated_df[\"Temp_Dew_Ratio\"] = aggregated_df[\"TMP_mean\"] / aggregated_df[\"DEW_mean\"]\n",
    "    \n",
    "    return aggregated_df"
   ]
  },
  {
   "cell_type": "markdown",
   "id": "8686c66e-c2b5-4699-95ae-200e26a38be5",
   "metadata": {},
   "source": [
    "### Call helper functions (load data)"
   ]
  },
  {
   "cell_type": "code",
   "execution_count": 6,
   "id": "c3045e13-691b-4c4b-b851-0c538d7cd198",
   "metadata": {},
   "outputs": [
    {
     "name": "stdout",
     "output_type": "stream",
     "text": [
      "      STATION                 DATE  SOURCE  LATITUDE  LONGITUDE  ELEVATION  \\\n",
      "0  1015099999  2024-01-01T00:00:00       4      69.6  17.833333       14.0   \n",
      "1  1015099999  2024-01-01T01:00:00       4      69.6  17.833333       14.0   \n",
      "2  1015099999  2024-01-01T02:00:00       4      69.6  17.833333       14.0   \n",
      "3  1015099999  2024-01-01T03:00:00       4      69.6  17.833333       14.0   \n",
      "4  1015099999  2024-01-01T04:00:00       4      69.6  17.833333       14.0   \n",
      "\n",
      "                NAME REPORT_TYPE  CALL_SIGN QUALITY_CONTROL  ...          CIG  \\\n",
      "0  HEKKINGEN FYR, NO       FM-12      99999            V020  ...  99999,9,9,N   \n",
      "1  HEKKINGEN FYR, NO       FM-12      99999            V020  ...  99999,9,9,N   \n",
      "2  HEKKINGEN FYR, NO       FM-12      99999            V020  ...  99999,9,9,N   \n",
      "3  HEKKINGEN FYR, NO       FM-12      99999            V020  ...  99999,9,9,N   \n",
      "4  HEKKINGEN FYR, NO       FM-12      99999            V020  ...  99999,9,9,N   \n",
      "\n",
      "            VIS      TMP      DEW      SLP            KA1            KA2  OC1  \\\n",
      "0  999999,9,9,9  -0058,1  -0114,1  99999,9  120,M,-0058,1  120,N,-0063,1  NaN   \n",
      "1  999999,9,9,9  -0058,1  -0124,1  99999,9  240,M,-0057,1  240,N,-0061,1  NaN   \n",
      "2  999999,9,9,9  -0059,1  -0121,1  99999,9  240,M,-0057,1  240,N,-0060,1  NaN   \n",
      "3  999999,9,9,9  -0059,1  -0119,1  99999,9  240,M,-0058,1  240,N,-0061,1  NaN   \n",
      "4  999999,9,9,9  -0059,1  -0125,1  99999,9  240,M,-0057,1  240,N,-0060,1  NaN   \n",
      "\n",
      "               OD1                                                REM  \n",
      "0  3,99,0120,1,999  SYN05801015 46/// /1310 11058 21114 333 11058 ...  \n",
      "1  3,99,0120,1,999  SYN05801015 46/// /1310 11058 21124 333 11057 ...  \n",
      "2  3,99,0130,1,999  SYN05801015 46/// /1310 11059 21121 333 11057 ...  \n",
      "3  3,99,0120,1,999  SYN05801015 46/// /1311 11059 21119 333 11058 ...  \n",
      "4  3,99,0130,1,999  SYN05801015 46/// /1410 11059 21125 333 11057 ...  \n",
      "\n",
      "[5 rows x 21 columns]\n",
      "STATION              int64\n",
      "DATE                object\n",
      "SOURCE               int64\n",
      "LATITUDE           float64\n",
      "LONGITUDE          float64\n",
      "ELEVATION          float64\n",
      "NAME                object\n",
      "REPORT_TYPE         object\n",
      "CALL_SIGN            int64\n",
      "QUALITY_CONTROL     object\n",
      "WND                 object\n",
      "CIG                 object\n",
      "VIS                 object\n",
      "TMP                 object\n",
      "DEW                 object\n",
      "SLP                 object\n",
      "KA1                 object\n",
      "KA2                 object\n",
      "OC1                 object\n",
      "OD1                 object\n",
      "REM                 object\n",
      "dtype: object\n"
     ]
    }
   ],
   "source": [
    "# Константи\n",
    "BASE_URL = \"https://www.ncei.noaa.gov/data/global-hourly/access\"\n",
    "YEAR = \"2024\"\n",
    "STATION_ID = \"01015099999\"\n",
    "\n",
    "# Визиваємо функції завантаження датасету\n",
    "df = load_data(BASE_URL, YEAR, STATION_ID)\n",
    "\n",
    "# Виводу коротку інформацію даних\n",
    "print(df.head())\n",
    "print(df.dtypes)"
   ]
  },
  {
   "cell_type": "code",
   "execution_count": 11,
   "id": "2bca1d32-2804-4fb4-a567-921f602665c9",
   "metadata": {},
   "outputs": [
    {
     "name": "stdout",
     "output_type": "stream",
     "text": [
      "7531\n",
      "7530\n",
      "      STATION                DATE  SOURCE  LATITUDE  LONGITUDE  ELEVATION  \\\n",
      "0  1015099999 2024-01-01 00:00:00       4      69.6  17.833333       14.0   \n",
      "1  1015099999 2024-01-01 01:00:00       4      69.6  17.833333       14.0   \n",
      "2  1015099999 2024-01-01 02:00:00       4      69.6  17.833333       14.0   \n",
      "3  1015099999 2024-01-01 03:00:00       4      69.6  17.833333       14.0   \n",
      "4  1015099999 2024-01-01 04:00:00       4      69.6  17.833333       14.0   \n",
      "\n",
      "                NAME REPORT_TYPE  CALL_SIGN QUALITY_CONTROL  ...          CIG  \\\n",
      "0  HEKKINGEN FYR, NO       FM-12      99999            V020  ...  99999,9,9,N   \n",
      "1  HEKKINGEN FYR, NO       FM-12      99999            V020  ...  99999,9,9,N   \n",
      "2  HEKKINGEN FYR, NO       FM-12      99999            V020  ...  99999,9,9,N   \n",
      "3  HEKKINGEN FYR, NO       FM-12      99999            V020  ...  99999,9,9,N   \n",
      "4  HEKKINGEN FYR, NO       FM-12      99999            V020  ...  99999,9,9,N   \n",
      "\n",
      "            VIS  TMP   DEW      SLP            KA1            KA2  OC1  \\\n",
      "0  999999,9,9,9 -5.8 -11.4  99999,9  120,M,-0058,1  120,N,-0063,1  NaN   \n",
      "1  999999,9,9,9 -5.8 -12.4  99999,9  240,M,-0057,1  240,N,-0061,1  NaN   \n",
      "2  999999,9,9,9 -5.9 -12.1  99999,9  240,M,-0057,1  240,N,-0060,1  NaN   \n",
      "3  999999,9,9,9 -5.9 -11.9  99999,9  240,M,-0058,1  240,N,-0061,1  NaN   \n",
      "4  999999,9,9,9 -5.9 -12.5  99999,9  240,M,-0057,1  240,N,-0060,1  NaN   \n",
      "\n",
      "               OD1                                                REM  \n",
      "0  3,99,0120,1,999  SYN05801015 46/// /1310 11058 21114 333 11058 ...  \n",
      "1  3,99,0120,1,999  SYN05801015 46/// /1310 11058 21124 333 11057 ...  \n",
      "2  3,99,0130,1,999  SYN05801015 46/// /1310 11059 21121 333 11057 ...  \n",
      "3  3,99,0120,1,999  SYN05801015 46/// /1311 11059 21119 333 11058 ...  \n",
      "4  3,99,0130,1,999  SYN05801015 46/// /1410 11059 21125 333 11057 ...  \n",
      "\n",
      "[5 rows x 21 columns]\n",
      "STATION                     int64\n",
      "DATE               datetime64[ns]\n",
      "SOURCE                      int64\n",
      "LATITUDE                  float64\n",
      "LONGITUDE                 float64\n",
      "ELEVATION                 float64\n",
      "NAME                       object\n",
      "REPORT_TYPE                object\n",
      "CALL_SIGN                   int64\n",
      "QUALITY_CONTROL            object\n",
      "WND                        object\n",
      "CIG                        object\n",
      "VIS                        object\n",
      "TMP                       float64\n",
      "DEW                       float64\n",
      "SLP                        object\n",
      "KA1                        object\n",
      "KA2                        object\n",
      "OC1                        object\n",
      "OD1                        object\n",
      "REM                        object\n",
      "dtype: object\n",
      "      STATION                DATE  SOURCE  LATITUDE  LONGITUDE  ELEVATION  \\\n",
      "0  1015099999 2024-01-01 00:00:00       4      69.6  17.833333       14.0   \n",
      "1  1015099999 2024-01-01 01:00:00       4      69.6  17.833333       14.0   \n",
      "2  1015099999 2024-01-01 02:00:00       4      69.6  17.833333       14.0   \n",
      "3  1015099999 2024-01-01 03:00:00       4      69.6  17.833333       14.0   \n",
      "4  1015099999 2024-01-01 04:00:00       4      69.6  17.833333       14.0   \n",
      "\n",
      "                NAME REPORT_TYPE  CALL_SIGN QUALITY_CONTROL  ...  \\\n",
      "0  HEKKINGEN FYR, NO       FM-12      99999            V020  ...   \n",
      "1  HEKKINGEN FYR, NO       FM-12      99999            V020  ...   \n",
      "2  HEKKINGEN FYR, NO       FM-12      99999            V020  ...   \n",
      "3  HEKKINGEN FYR, NO       FM-12      99999            V020  ...   \n",
      "4  HEKKINGEN FYR, NO       FM-12      99999            V020  ...   \n",
      "\n",
      "            VIS  TMP   DEW      SLP            KA1            KA2  OC1  \\\n",
      "0  999999,9,9,9 -5.8 -11.4  99999,9  120,M,-0058,1  120,N,-0063,1  NaN   \n",
      "1  999999,9,9,9 -5.8 -12.4  99999,9  240,M,-0057,1  240,N,-0061,1  NaN   \n",
      "2  999999,9,9,9 -5.9 -12.1  99999,9  240,M,-0057,1  240,N,-0060,1  NaN   \n",
      "3  999999,9,9,9 -5.9 -11.9  99999,9  240,M,-0058,1  240,N,-0061,1  NaN   \n",
      "4  999999,9,9,9 -5.9 -12.5  99999,9  240,M,-0057,1  240,N,-0060,1  NaN   \n",
      "\n",
      "               OD1                                                REM  \\\n",
      "0  3,99,0120,1,999  SYN05801015 46/// /1310 11058 21114 333 11058 ...   \n",
      "1  3,99,0120,1,999  SYN05801015 46/// /1310 11058 21124 333 11057 ...   \n",
      "2  3,99,0130,1,999  SYN05801015 46/// /1310 11059 21121 333 11057 ...   \n",
      "3  3,99,0120,1,999  SYN05801015 46/// /1311 11059 21119 333 11058 ...   \n",
      "4  3,99,0130,1,999  SYN05801015 46/// /1410 11059 21125 333 11057 ...   \n",
      "\n",
      "  Temp_Dew_Diff  \n",
      "0           5.6  \n",
      "1           6.6  \n",
      "2           6.2  \n",
      "3           6.0  \n",
      "4           6.6  \n",
      "\n",
      "[5 rows x 22 columns]\n",
      "STATION                     int64\n",
      "DATE               datetime64[ns]\n",
      "SOURCE                      int64\n",
      "LATITUDE                  float64\n",
      "LONGITUDE                 float64\n",
      "ELEVATION                 float64\n",
      "NAME                       object\n",
      "REPORT_TYPE                object\n",
      "CALL_SIGN                   int64\n",
      "QUALITY_CONTROL            object\n",
      "WND                        object\n",
      "CIG                        object\n",
      "VIS                        object\n",
      "TMP                       float64\n",
      "DEW                       float64\n",
      "SLP                        object\n",
      "KA1                        object\n",
      "KA2                        object\n",
      "OC1                        object\n",
      "OD1                        object\n",
      "REM                        object\n",
      "Temp_Dew_Diff             float64\n",
      "dtype: object\n",
      "             TMP_mean  TMP_max  TMP_min  DEW_mean  DEW_max  DEW_min  \\\n",
      "Day_Of_Week                                                           \n",
      "Monday       6.296211     24.3     -7.9  1.228004     14.1    -13.7   \n",
      "Tuesday      6.414750     24.9     -9.2  1.605937     14.7    -16.9   \n",
      "Wednesday    6.753677     24.3    -10.1  1.723114     14.1    -16.6   \n",
      "Thursday     6.737616     22.8     -8.8  1.928373     15.3    -14.8   \n",
      "Friday       6.272161     20.8     -8.7  1.586813     14.4    -15.4   \n",
      "Saturday     6.213389     23.1     -8.9  1.690120     14.7    -13.6   \n",
      "Sunday       6.548499     24.0     -5.9  1.957880     15.1    -11.9   \n",
      "\n",
      "             Temp_Dew_Ratio  \n",
      "Day_Of_Week                  \n",
      "Monday             5.127192  \n",
      "Tuesday            3.994397  \n",
      "Wednesday          3.919461  \n",
      "Thursday           3.493937  \n",
      "Friday             3.952678  \n",
      "Saturday           3.676300  \n",
      "Sunday             3.344689  \n",
      "TMP_mean          float64\n",
      "TMP_max           float64\n",
      "TMP_min           float64\n",
      "DEW_mean          float64\n",
      "DEW_max           float64\n",
      "DEW_min           float64\n",
      "Temp_Dew_Ratio    float64\n",
      "dtype: object\n"
     ]
    }
   ],
   "source": [
    "df_transformed = clear_and_tranform_data(df.copy())\n",
    "\n",
    "# Після очистки даних видалився лише один запис\n",
    "print(df.shape[0])\n",
    "print(df_transformed.shape[0])\n",
    "\n",
    "# Коротка інформація про очищені та трансформовані дані\n",
    "print(df_transformed.head())\n",
    "print(df_transformed.dtypes)\n",
    "\n",
    "df_calcuted = calculate_tmp_dew_diff(df_transformed.copy())\n",
    "\n",
    "# Коротка інформація про дані після розрахунку різниці між TMP та DEW\n",
    "print(df_calcuted.head())\n",
    "print(df_calcuted.dtypes)\n",
    "\n",
    "df_aggregated = aggregate_data(df_calcuted.copy())\n",
    "\n",
    "# Коротка інформація про дані після агрегації\n",
    "print(df_aggregated)\n",
    "print(df_aggregated.dtypes)\n",
    "\n",
    "df_aggregated.to_csv(\"date_of_week_weather_date.csv\")"
   ]
  },
  {
   "cell_type": "code",
   "execution_count": 13,
   "id": "2995d761-7924-4fa4-882f-dd956dd7179d",
   "metadata": {},
   "outputs": [
    {
     "name": "stdout",
     "output_type": "stream",
     "text": [
      "7531\n",
      "7531\n"
     ]
    }
   ],
   "source": [
    "print(df.shape[0])\n",
    "count_99999 = (df[\"SLP\"] == \"99999,9\").sum()\n",
    "print(count_99999)"
   ]
  },
  {
   "cell_type": "code",
   "execution_count": null,
   "id": "a864276b-4bdf-4074-bbcf-05e7efdb8b66",
   "metadata": {},
   "outputs": [],
   "source": []
  },
  {
   "cell_type": "code",
   "execution_count": null,
   "id": "6adfcbfa-bc28-4860-b67d-5b763dbda461",
   "metadata": {},
   "outputs": [],
   "source": []
  }
 ],
 "metadata": {
  "kernelspec": {
   "display_name": "Python 3 (ipykernel)",
   "language": "python",
   "name": "python3"
  },
  "language_info": {
   "codemirror_mode": {
    "name": "ipython",
    "version": 3
   },
   "file_extension": ".py",
   "mimetype": "text/x-python",
   "name": "python",
   "nbconvert_exporter": "python",
   "pygments_lexer": "ipython3",
   "version": "3.12.8"
  }
 },
 "nbformat": 4,
 "nbformat_minor": 5
}
