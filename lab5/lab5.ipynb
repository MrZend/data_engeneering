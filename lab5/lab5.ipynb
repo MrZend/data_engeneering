{
 "cells": [
  {
   "cell_type": "markdown",
   "id": "fb661bfe-9e7b-4b4a-a3b9-73520b56fd6d",
   "metadata": {},
   "source": [
    "## Basic work with Spark"
   ]
  },
  {
   "cell_type": "markdown",
   "id": "45064076-9ac9-4433-83e0-0e19badc1c74",
   "metadata": {},
   "source": [
    "### import neccessary packages"
   ]
  },
  {
   "cell_type": "code",
   "execution_count": 1,
   "id": "cb9540a7-4ea5-4684-a491-71756405812f",
   "metadata": {},
   "outputs": [],
   "source": [
    "from pyspark.sql import SparkSession\n",
    "from pyspark.sql.functions import col, when"
   ]
  },
  {
   "cell_type": "markdown",
   "id": "449c94f9-5f31-4ac4-b866-1255558d0cee",
   "metadata": {},
   "source": [
    "### Spark initialization"
   ]
  },
  {
   "cell_type": "code",
   "execution_count": 2,
   "id": "97647097-d7c6-4536-a060-7c265c821348",
   "metadata": {},
   "outputs": [
    {
     "name": "stdout",
     "output_type": "stream",
     "text": [
      "Spark Version: 3.5.0\n"
     ]
    }
   ],
   "source": [
    "spark = SparkSession.builder \\\n",
    "                    .appName(\"LAB5\") \\\n",
    "                    .getOrCreate()\n",
    "\n",
    "# Перевіримо чи ініціалізувалася спарк-сесія\n",
    "print(f\"Spark Version: {spark.version}\")"
   ]
  },
  {
   "cell_type": "markdown",
   "id": "46b1fbe7-fbc5-45f5-8e84-91a9d0d6e523",
   "metadata": {},
   "source": [
    "### Create simple DataFrame"
   ]
  },
  {
   "cell_type": "code",
   "execution_count": 7,
   "id": "6ba64905-c288-4568-9874-0b1f712c59c6",
   "metadata": {},
   "outputs": [
    {
     "name": "stdout",
     "output_type": "stream",
     "text": [
      "+-------+----------------+----------+\n",
      "|Country|         Capital|Population|\n",
      "+-------+----------------+----------+\n",
      "|Ukraine|            Kyiv|   2952000|\n",
      "| France|           Paris|   2103000|\n",
      "|  China|         Beijing|  21705000|\n",
      "|    USA|Washington, D.C.| 331000000|\n",
      "|  Japan|           Tokyo| 125800000|\n",
      "|     UK|          London|  67886000|\n",
      "+-------+----------------+----------+\n",
      "\n",
      "[('Country', 'string'), ('Capital', 'string'), ('Population', 'bigint')]\n"
     ]
    }
   ],
   "source": [
    "data = [\n",
    "    (\"Ukraine\", \"Kyiv\", 2_952_000),\n",
    "    (\"France\", \"Paris\", 2_103_000),\n",
    "    (\"China\", \"Beijing\", 21_705_000),\n",
    "    (\"USA\", \"Washington, D.C.\", 331_000_000),\n",
    "    (\"Japan\", \"Tokyo\", 125_800_000),\n",
    "    (\"UK\", \"London\", 67_886_000)\n",
    "]\n",
    "columns = [\"Country\", \"Capital\", \"Population\"]\n",
    "\n",
    "df = spark.createDataFrame(data, schema=columns)\n",
    "\n",
    "# Перевіримо створений DataFrame\n",
    "df.show()\n",
    "print(df.dtypes)"
   ]
  },
  {
   "cell_type": "markdown",
   "id": "54b9741b-f47d-4014-a7ed-3a8b1a0cf112",
   "metadata": {},
   "source": [
    "### Make simple operation"
   ]
  },
  {
   "cell_type": "code",
   "execution_count": 4,
   "id": "3b6590d5-c2a1-450f-a906-7ce3ac56f773",
   "metadata": {},
   "outputs": [
    {
     "name": "stdout",
     "output_type": "stream",
     "text": [
      "+-------+----------------+----------+\n",
      "|Country|         Capital|Population|\n",
      "+-------+----------------+----------+\n",
      "|    USA|Washington, D.C.| 331000000|\n",
      "|  Japan|           Tokyo| 125800000|\n",
      "|     UK|          London|  67886000|\n",
      "|  China|         Beijing|  21705000|\n",
      "|Ukraine|            Kyiv|   2952000|\n",
      "| France|           Paris|   2103000|\n",
      "+-------+----------------+----------+\n",
      "\n"
     ]
    }
   ],
   "source": [
    "# Відсортуємо країни за населення (за спаданням)\n",
    "df_sorted = df.orderBy(col(\"Population\").desc())\n",
    "df_sorted.show()"
   ]
  },
  {
   "cell_type": "code",
   "execution_count": 5,
   "id": "b09dd30a-021a-4abc-8364-ccd613735559",
   "metadata": {},
   "outputs": [
    {
     "name": "stdout",
     "output_type": "stream",
     "text": [
      "USA\n"
     ]
    }
   ],
   "source": [
    "# Знайдемо країну з найбільшою столицею за населенням\n",
    "name_of_country_with_greatest_capital_by_population = df_sorted.first()['Country']\n",
    "print(name_of_country_with_greatest_capital_by_population)"
   ]
  },
  {
   "cell_type": "code",
   "execution_count": 6,
   "id": "48d4fac6-a3cf-4bb6-8cbc-be33cfa46a28",
   "metadata": {},
   "outputs": [
    {
     "name": "stdout",
     "output_type": "stream",
     "text": [
      "+-------+----------------+----------+-------------------+\n",
      "|Country|         Capital|Population|Population_Category|\n",
      "+-------+----------------+----------+-------------------+\n",
      "|    USA|Washington, D.C.| 331000000|              Large|\n",
      "|  Japan|           Tokyo| 125800000|             Medium|\n",
      "|     UK|          London|  67886000|             Medium|\n",
      "|  China|         Beijing|  21705000|              Small|\n",
      "|Ukraine|            Kyiv|   2952000|              Small|\n",
      "| France|           Paris|   2103000|              Small|\n",
      "+-------+----------------+----------+-------------------+\n",
      "\n"
     ]
    }
   ],
   "source": [
    "# Додамо стовпець з категорією населення: < 25 млн - Small; 25-150 млн - Medium; > 150 млн - Large\n",
    "df_with_category = df_sorted.withColumn(\n",
    "    \"Population_Category\",\n",
    "    when(col(\"Population\") < 25_000_000, \"Small\")\n",
    "    .when((col(\"Population\") >= 25_000_000) & (col(\"Population\") <= 150_000_000), \"Medium\")\n",
    "    .otherwise(\"Large\")\n",
    ")\n",
    "\n",
    "df_with_category.show()"
   ]
  },
  {
   "cell_type": "code",
   "execution_count": 8,
   "id": "6743d475-b139-4600-8dd2-0e320f1e8b5e",
   "metadata": {},
   "outputs": [],
   "source": [
    "# Зупиняємо роботу спарк сесії\n",
    "spark.stop()"
   ]
  },
  {
   "cell_type": "code",
   "execution_count": null,
   "id": "28ae8c9c-530f-4a9b-9505-ca5845a8ba17",
   "metadata": {},
   "outputs": [],
   "source": []
  }
 ],
 "metadata": {
  "kernelspec": {
   "display_name": "Python 3 (ipykernel)",
   "language": "python",
   "name": "python3"
  },
  "language_info": {
   "codemirror_mode": {
    "name": "ipython",
    "version": 3
   },
   "file_extension": ".py",
   "mimetype": "text/x-python",
   "name": "python",
   "nbconvert_exporter": "python",
   "pygments_lexer": "ipython3",
   "version": "3.11.6"
  }
 },
 "nbformat": 4,
 "nbformat_minor": 5
}
