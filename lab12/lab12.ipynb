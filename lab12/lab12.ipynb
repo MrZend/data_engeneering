{
 "cells": [
  {
   "cell_type": "markdown",
   "id": "64cdb075-b3e4-4d3f-baac-4cd4d10bbb00",
   "metadata": {},
   "source": [
    "## Work with Kafka"
   ]
  },
  {
   "cell_type": "markdown",
   "id": "c70ea863-55ac-4a80-9213-a56145c27b62",
   "metadata": {},
   "source": [
    "### Install neccessary packages"
   ]
  },
  {
   "cell_type": "code",
   "execution_count": 1,
   "id": "1f814890-ee7f-4f9c-9552-9217548c7ebb",
   "metadata": {},
   "outputs": [
    {
     "name": "stdout",
     "output_type": "stream",
     "text": [
      "Collecting delta-spark==3.2.0\n",
      "  Downloading delta_spark-3.2.0-py3-none-any.whl.metadata (2.0 kB)\n",
      "Requirement already satisfied: pyspark<3.6.0,>=3.5.0 in /usr/local/spark/python (from delta-spark==3.2.0) (3.5.0)\n",
      "Requirement already satisfied: importlib-metadata>=1.0.0 in /opt/conda/lib/python3.11/site-packages (from delta-spark==3.2.0) (6.8.0)\n",
      "Requirement already satisfied: zipp>=0.5 in /opt/conda/lib/python3.11/site-packages (from importlib-metadata>=1.0.0->delta-spark==3.2.0) (3.17.0)\n",
      "Collecting py4j==0.10.9.7 (from pyspark<3.6.0,>=3.5.0->delta-spark==3.2.0)\n",
      "  Downloading py4j-0.10.9.7-py2.py3-none-any.whl.metadata (1.5 kB)\n",
      "Downloading delta_spark-3.2.0-py3-none-any.whl (21 kB)\n",
      "Downloading py4j-0.10.9.7-py2.py3-none-any.whl (200 kB)\n",
      "\u001b[2K   \u001b[90m━━━━━━━━━━━━━━━━━━━━━━━━━━━━━━━━━━━━━━━━\u001b[0m \u001b[32m200.5/200.5 kB\u001b[0m \u001b[31m2.6 MB/s\u001b[0m eta \u001b[36m0:00:00\u001b[0m \u001b[36m0:00:01\u001b[0m\n",
      "\u001b[?25hInstalling collected packages: py4j, delta-spark\n",
      "Successfully installed delta-spark-3.2.0 py4j-0.10.9.7\n"
     ]
    }
   ],
   "source": [
    "!pip install delta-spark==3.2.0"
   ]
  },
  {
   "cell_type": "markdown",
   "id": "4c4731b7-0c7e-4be8-a297-012306d166e2",
   "metadata": {},
   "source": [
    "### Import neccessary packages"
   ]
  },
  {
   "cell_type": "code",
   "execution_count": 2,
   "id": "9416e362-d7ac-4ca4-8775-1019cc0368a1",
   "metadata": {},
   "outputs": [],
   "source": [
    "from pyspark.sql import SparkSession\n",
    "from pyspark.sql.functions import col, from_json\n",
    "from pyspark.sql.types import StructType, StructField, StringType, IntegerType, FloatType, TimestampType\n",
    "from delta import *"
   ]
  },
  {
   "cell_type": "markdown",
   "id": "29aa0092-d302-49f4-bd85-bc2efabb010a",
   "metadata": {},
   "source": [
    "### Initialization Spark-session with Kafka support"
   ]
  },
  {
   "cell_type": "code",
   "execution_count": 3,
   "id": "43d79b5b-285f-4023-bc41-75c98d3ab6cc",
   "metadata": {},
   "outputs": [],
   "source": [
    "# Ініціалізація SparkSession з підтримкою Kafka\n",
    "spark = SparkSession.builder \\\n",
    "                    .appName(\"HealthDataStreaming\") \\\n",
    "                    .config(\"spark.jars.packages\", \"org.apache.spark:spark-sql-kafka-0-10_2.12:3.5.0,io.delta:delta-spark_2.12:3.2.0\") \\\n",
    "                    .config(\"spark.sql.extensions\", \"io.delta.sql.DeltaSparkSessionExtension\") \\\n",
    "                    .config(\"spark.sql.catalog.spark_catalog\", \"org.apache.spark.sql.delta.catalog.DeltaCatalog\") \\\n",
    "                    .getOrCreate()"
   ]
  },
  {
   "cell_type": "markdown",
   "id": "3f32849b-cc40-417c-88de-d2de77a1576a",
   "metadata": {},
   "source": [
    "### Create schema for creating DataFrame from retrieved data"
   ]
  },
  {
   "cell_type": "code",
   "execution_count": 4,
   "id": "f17c7bc1-3e84-4024-bc61-8e9a34b788a6",
   "metadata": {},
   "outputs": [],
   "source": [
    "# Схема для даних\n",
    "schema = StructType([\n",
    "    StructField(\"patient_id\", StringType(), nullable=False),\n",
    "    StructField(\"heart_rate\", IntegerType(), nullable=True),\n",
    "    StructField(\"blood_pressure\", StringType(), nullable=True),\n",
    "    StructField(\"glucose_level\", FloatType(), nullable=True),\n",
    "    StructField(\"timestamp\", TimestampType(), nullable=True)\n",
    "])"
   ]
  },
  {
   "cell_type": "markdown",
   "id": "46cbca93-1ad7-4486-bea4-799b8fa0f599",
   "metadata": {},
   "source": [
    "### Work with data and DeltaLake"
   ]
  },
  {
   "cell_type": "code",
   "execution_count": 6,
   "id": "0d95d126-d921-456b-b726-96357b13dd12",
   "metadata": {},
   "outputs": [
    {
     "name": "stderr",
     "output_type": "stream",
     "text": [
      "ERROR:root:KeyboardInterrupt while sending command.\n",
      "Traceback (most recent call last):\n",
      "  File \"/usr/local/spark/python/lib/py4j-0.10.9.7-src.zip/py4j/java_gateway.py\", line 1038, in send_command\n",
      "    response = connection.send_command(command)\n",
      "               ^^^^^^^^^^^^^^^^^^^^^^^^^^^^^^^^\n",
      "  File \"/usr/local/spark/python/lib/py4j-0.10.9.7-src.zip/py4j/clientserver.py\", line 511, in send_command\n",
      "    answer = smart_decode(self.stream.readline()[:-1])\n",
      "                          ^^^^^^^^^^^^^^^^^^^^^^\n",
      "  File \"/opt/conda/lib/python3.11/socket.py\", line 706, in readinto\n",
      "    return self._sock.recv_into(b)\n",
      "           ^^^^^^^^^^^^^^^^^^^^^^^\n",
      "KeyboardInterrupt\n"
     ]
    },
    {
     "ename": "KeyboardInterrupt",
     "evalue": "",
     "output_type": "error",
     "traceback": [
      "\u001b[0;31m---------------------------------------------------------------------------\u001b[0m",
      "\u001b[0;31mKeyboardInterrupt\u001b[0m                         Traceback (most recent call last)",
      "Cell \u001b[0;32mIn[6], line 17\u001b[0m\n\u001b[1;32m     11\u001b[0m \u001b[38;5;66;03m# Збереження оброблених даних у Delta Lake\u001b[39;00m\n\u001b[1;32m     12\u001b[0m query \u001b[38;5;241m=\u001b[39m df\u001b[38;5;241m.\u001b[39mwriteStream\u001b[38;5;241m.\u001b[39mformat(\u001b[38;5;124m\"\u001b[39m\u001b[38;5;124mdelta\u001b[39m\u001b[38;5;124m\"\u001b[39m) \\\n\u001b[1;32m     13\u001b[0m                       \u001b[38;5;241m.\u001b[39moutputMode(\u001b[38;5;124m\"\u001b[39m\u001b[38;5;124mappend\u001b[39m\u001b[38;5;124m\"\u001b[39m) \\\n\u001b[1;32m     14\u001b[0m                       \u001b[38;5;241m.\u001b[39moption(\u001b[38;5;124m\"\u001b[39m\u001b[38;5;124mcheckpointLocation\u001b[39m\u001b[38;5;124m\"\u001b[39m, \u001b[38;5;124m\"\u001b[39m\u001b[38;5;124m/tmp/checkpoints\u001b[39m\u001b[38;5;124m\"\u001b[39m) \\\n\u001b[1;32m     15\u001b[0m                       \u001b[38;5;241m.\u001b[39mtoTable(\u001b[38;5;124m\"\u001b[39m\u001b[38;5;124mhealth_stream_data\u001b[39m\u001b[38;5;124m\"\u001b[39m)\n\u001b[0;32m---> 17\u001b[0m \u001b[43mquery\u001b[49m\u001b[38;5;241;43m.\u001b[39;49m\u001b[43mawaitTermination\u001b[49m\u001b[43m(\u001b[49m\u001b[43m)\u001b[49m\n",
      "File \u001b[0;32m/usr/local/spark/python/pyspark/sql/streaming/query.py:221\u001b[0m, in \u001b[0;36mStreamingQuery.awaitTermination\u001b[0;34m(self, timeout)\u001b[0m\n\u001b[1;32m    219\u001b[0m     \u001b[38;5;28;01mreturn\u001b[39;00m \u001b[38;5;28mself\u001b[39m\u001b[38;5;241m.\u001b[39m_jsq\u001b[38;5;241m.\u001b[39mawaitTermination(\u001b[38;5;28mint\u001b[39m(timeout \u001b[38;5;241m*\u001b[39m \u001b[38;5;241m1000\u001b[39m))\n\u001b[1;32m    220\u001b[0m \u001b[38;5;28;01melse\u001b[39;00m:\n\u001b[0;32m--> 221\u001b[0m     \u001b[38;5;28;01mreturn\u001b[39;00m \u001b[38;5;28;43mself\u001b[39;49m\u001b[38;5;241;43m.\u001b[39;49m\u001b[43m_jsq\u001b[49m\u001b[38;5;241;43m.\u001b[39;49m\u001b[43mawaitTermination\u001b[49m\u001b[43m(\u001b[49m\u001b[43m)\u001b[49m\n",
      "File \u001b[0;32m/usr/local/spark/python/lib/py4j-0.10.9.7-src.zip/py4j/java_gateway.py:1321\u001b[0m, in \u001b[0;36mJavaMember.__call__\u001b[0;34m(self, *args)\u001b[0m\n\u001b[1;32m   1314\u001b[0m args_command, temp_args \u001b[38;5;241m=\u001b[39m \u001b[38;5;28mself\u001b[39m\u001b[38;5;241m.\u001b[39m_build_args(\u001b[38;5;241m*\u001b[39margs)\n\u001b[1;32m   1316\u001b[0m command \u001b[38;5;241m=\u001b[39m proto\u001b[38;5;241m.\u001b[39mCALL_COMMAND_NAME \u001b[38;5;241m+\u001b[39m\\\n\u001b[1;32m   1317\u001b[0m     \u001b[38;5;28mself\u001b[39m\u001b[38;5;241m.\u001b[39mcommand_header \u001b[38;5;241m+\u001b[39m\\\n\u001b[1;32m   1318\u001b[0m     args_command \u001b[38;5;241m+\u001b[39m\\\n\u001b[1;32m   1319\u001b[0m     proto\u001b[38;5;241m.\u001b[39mEND_COMMAND_PART\n\u001b[0;32m-> 1321\u001b[0m answer \u001b[38;5;241m=\u001b[39m \u001b[38;5;28;43mself\u001b[39;49m\u001b[38;5;241;43m.\u001b[39;49m\u001b[43mgateway_client\u001b[49m\u001b[38;5;241;43m.\u001b[39;49m\u001b[43msend_command\u001b[49m\u001b[43m(\u001b[49m\u001b[43mcommand\u001b[49m\u001b[43m)\u001b[49m\n\u001b[1;32m   1322\u001b[0m return_value \u001b[38;5;241m=\u001b[39m get_return_value(\n\u001b[1;32m   1323\u001b[0m     answer, \u001b[38;5;28mself\u001b[39m\u001b[38;5;241m.\u001b[39mgateway_client, \u001b[38;5;28mself\u001b[39m\u001b[38;5;241m.\u001b[39mtarget_id, \u001b[38;5;28mself\u001b[39m\u001b[38;5;241m.\u001b[39mname)\n\u001b[1;32m   1325\u001b[0m \u001b[38;5;28;01mfor\u001b[39;00m temp_arg \u001b[38;5;129;01min\u001b[39;00m temp_args:\n",
      "File \u001b[0;32m/usr/local/spark/python/lib/py4j-0.10.9.7-src.zip/py4j/java_gateway.py:1038\u001b[0m, in \u001b[0;36mGatewayClient.send_command\u001b[0;34m(self, command, retry, binary)\u001b[0m\n\u001b[1;32m   1036\u001b[0m connection \u001b[38;5;241m=\u001b[39m \u001b[38;5;28mself\u001b[39m\u001b[38;5;241m.\u001b[39m_get_connection()\n\u001b[1;32m   1037\u001b[0m \u001b[38;5;28;01mtry\u001b[39;00m:\n\u001b[0;32m-> 1038\u001b[0m     response \u001b[38;5;241m=\u001b[39m \u001b[43mconnection\u001b[49m\u001b[38;5;241;43m.\u001b[39;49m\u001b[43msend_command\u001b[49m\u001b[43m(\u001b[49m\u001b[43mcommand\u001b[49m\u001b[43m)\u001b[49m\n\u001b[1;32m   1039\u001b[0m     \u001b[38;5;28;01mif\u001b[39;00m binary:\n\u001b[1;32m   1040\u001b[0m         \u001b[38;5;28;01mreturn\u001b[39;00m response, \u001b[38;5;28mself\u001b[39m\u001b[38;5;241m.\u001b[39m_create_connection_guard(connection)\n",
      "File \u001b[0;32m/usr/local/spark/python/lib/py4j-0.10.9.7-src.zip/py4j/clientserver.py:511\u001b[0m, in \u001b[0;36mClientServerConnection.send_command\u001b[0;34m(self, command)\u001b[0m\n\u001b[1;32m    509\u001b[0m \u001b[38;5;28;01mtry\u001b[39;00m:\n\u001b[1;32m    510\u001b[0m     \u001b[38;5;28;01mwhile\u001b[39;00m \u001b[38;5;28;01mTrue\u001b[39;00m:\n\u001b[0;32m--> 511\u001b[0m         answer \u001b[38;5;241m=\u001b[39m smart_decode(\u001b[38;5;28mself\u001b[39m\u001b[38;5;241m.\u001b[39mstream\u001b[38;5;241m.\u001b[39mreadline()[:\u001b[38;5;241m-\u001b[39m\u001b[38;5;241m1\u001b[39m])\n\u001b[1;32m    512\u001b[0m         logger\u001b[38;5;241m.\u001b[39mdebug(\u001b[38;5;124m\"\u001b[39m\u001b[38;5;124mAnswer received: \u001b[39m\u001b[38;5;132;01m{0}\u001b[39;00m\u001b[38;5;124m\"\u001b[39m\u001b[38;5;241m.\u001b[39mformat(answer))\n\u001b[1;32m    513\u001b[0m         \u001b[38;5;66;03m# Happens when a the other end is dead. There might be an empty\u001b[39;00m\n\u001b[1;32m    514\u001b[0m         \u001b[38;5;66;03m# answer before the socket raises an error.\u001b[39;00m\n",
      "File \u001b[0;32m/opt/conda/lib/python3.11/socket.py:706\u001b[0m, in \u001b[0;36mSocketIO.readinto\u001b[0;34m(self, b)\u001b[0m\n\u001b[1;32m    704\u001b[0m \u001b[38;5;28;01mwhile\u001b[39;00m \u001b[38;5;28;01mTrue\u001b[39;00m:\n\u001b[1;32m    705\u001b[0m     \u001b[38;5;28;01mtry\u001b[39;00m:\n\u001b[0;32m--> 706\u001b[0m         \u001b[38;5;28;01mreturn\u001b[39;00m \u001b[38;5;28;43mself\u001b[39;49m\u001b[38;5;241;43m.\u001b[39;49m\u001b[43m_sock\u001b[49m\u001b[38;5;241;43m.\u001b[39;49m\u001b[43mrecv_into\u001b[49m\u001b[43m(\u001b[49m\u001b[43mb\u001b[49m\u001b[43m)\u001b[49m\n\u001b[1;32m    707\u001b[0m     \u001b[38;5;28;01mexcept\u001b[39;00m timeout:\n\u001b[1;32m    708\u001b[0m         \u001b[38;5;28mself\u001b[39m\u001b[38;5;241m.\u001b[39m_timeout_occurred \u001b[38;5;241m=\u001b[39m \u001b[38;5;28;01mTrue\u001b[39;00m\n",
      "\u001b[0;31mKeyboardInterrupt\u001b[0m: "
     ]
    }
   ],
   "source": [
    "# Читання даних з Kafka\n",
    "df = spark.readStream.format(\"kafka\") \\\n",
    "    .option(\"kafka.bootstrap.servers\", \"192.168.50.52:39092\") \\\n",
    "    .option(\"subscribe\", \"health-data\") \\\n",
    "    .load()\n",
    "\n",
    "# Перетворення даних\n",
    "df = df.selectExpr(\"CAST(value AS STRING)\")\n",
    "df = df.select(from_json(col(\"value\"), schema).alias(\"data\")).select(\"data.*\") \n",
    "\n",
    "# Збереження оброблених даних у Delta Lake\n",
    "query = df.writeStream.format(\"delta\") \\\n",
    "                      .outputMode(\"append\") \\\n",
    "                      .option(\"checkpointLocation\", \"/tmp/checkpoints\") \\\n",
    "                      .toTable(\"health_stream_data\")\n",
    "\n",
    "query.awaitTermination()"
   ]
  },
  {
   "cell_type": "code",
   "execution_count": 9,
   "id": "1ba7a7cc-5ba3-44ff-a33b-c4127b0cd889",
   "metadata": {},
   "outputs": [
    {
     "name": "stdout",
     "output_type": "stream",
     "text": [
      "+----------+----------+--------------+-------------+--------------------------+\n",
      "|patient_id|heart_rate|blood_pressure|glucose_level|timestamp                 |\n",
      "+----------+----------+--------------+-------------+--------------------------+\n",
      "|23        |71        |116/73        |119.47       |2025-01-07 00:27:36.05879 |\n",
      "|24        |86        |110/71        |110.97       |2025-01-07 00:27:37.080012|\n",
      "|25        |95        |113/70        |112.71       |2025-01-07 00:27:38.088398|\n",
      "|26        |100       |116/77        |70.38        |2025-01-07 00:27:39.095191|\n",
      "|88        |65        |120/83        |124.56       |2025-01-07 00:28:41.524436|\n",
      "|32        |88        |133/89        |113.44       |2025-01-07 00:27:45.157241|\n",
      "|67        |64        |110/82        |75.89        |2025-01-07 00:28:20.370604|\n",
      "|56        |94        |133/84        |116.04       |2025-01-07 00:28:09.293046|\n",
      "|16        |77        |114/86        |136.4        |2025-01-07 00:27:29.026485|\n",
      "|58        |74        |121/88        |104.38       |2025-01-07 00:28:11.30645 |\n",
      "|65        |83        |135/80        |112.73       |2025-01-07 00:28:18.344043|\n",
      "|71        |67        |117/82        |107.55       |2025-01-07 00:28:24.390453|\n",
      "|79        |100       |125/90        |75.08        |2025-01-07 00:28:32.441696|\n",
      "|49        |71        |114/72        |134.79       |2025-01-07 00:28:02.256447|\n",
      "|70        |75        |126/75        |113.14       |2025-01-07 00:28:23.383902|\n",
      "|78        |66        |140/79        |84.17        |2025-01-07 00:28:31.431827|\n",
      "|80        |98        |116/73        |91.26        |2025-01-07 00:28:33.450173|\n",
      "|19        |90        |114/78        |137.95       |2025-01-07 00:27:32.036581|\n",
      "|53        |86        |120/83        |129.81       |2025-01-07 00:28:06.278387|\n",
      "|10        |95        |112/70        |72.7         |2025-01-07 00:27:22.995537|\n",
      "|21        |74        |137/81        |107.96       |2025-01-07 00:27:34.04562 |\n",
      "|20        |89        |128/89        |114.8        |2025-01-07 00:27:33.040886|\n",
      "|73        |97        |122/89        |104.69       |2025-01-07 00:28:26.402384|\n",
      "|36        |84        |127/83        |73.34        |2025-01-07 00:27:49.179171|\n",
      "|38        |74        |131/82        |134.82       |2025-01-07 00:27:51.189454|\n",
      "|13        |87        |124/88        |78.45        |2025-01-07 00:27:26.014968|\n",
      "|55        |85        |111/79        |74.18        |2025-01-07 00:28:08.288631|\n",
      "|59        |77        |132/78        |121.03       |2025-01-07 00:28:12.310874|\n",
      "|37        |97        |137/82        |96.54        |2025-01-07 00:27:50.183489|\n",
      "|87        |96        |128/70        |84.21        |2025-01-07 00:28:40.515287|\n",
      "|34        |99        |124/72        |111.44       |2025-01-07 00:27:47.166366|\n",
      "|85        |100       |110/85        |111.38       |2025-01-07 00:28:38.501376|\n",
      "|14        |67        |116/86        |101.18       |2025-01-07 00:27:27.020796|\n",
      "|69        |86        |110/88        |112.88       |2025-01-07 00:28:22.381024|\n",
      "|47        |90        |132/71        |130.85       |2025-01-07 00:28:00.244532|\n",
      "|22        |79        |123/77        |78.11        |2025-01-07 00:27:35.052176|\n",
      "|61        |61        |112/83        |118.11       |2025-01-07 00:28:14.324791|\n",
      "|81        |76        |134/76        |128.41       |2025-01-07 00:28:34.457375|\n",
      "|33        |62        |123/77        |70.78        |2025-01-07 00:27:46.163384|\n",
      "|51        |96        |138/71        |81.7         |2025-01-07 00:28:04.263988|\n",
      "|50        |72        |112/76        |131.54       |2025-01-07 00:28:03.259048|\n",
      "|97        |65        |138/71        |87.27        |2025-01-07 00:28:50.568672|\n",
      "|62        |89        |134/82        |83.63        |2025-01-07 00:28:15.327821|\n",
      "|86        |84        |137/85        |73.39        |2025-01-07 00:28:39.508132|\n",
      "|46        |80        |131/89        |99.65        |2025-01-07 00:27:59.237821|\n",
      "|96        |72        |130/78        |71.2         |2025-01-07 00:28:49.562294|\n",
      "|48        |100       |125/88        |71.4         |2025-01-07 00:28:01.250779|\n",
      "|60        |68        |113/72        |124.77       |2025-01-07 00:28:13.317398|\n",
      "|76        |99        |111/72        |117.82       |2025-01-07 00:28:29.418871|\n",
      "|57        |76        |138/71        |139.33       |2025-01-07 00:28:10.299704|\n",
      "|52        |64        |111/83        |88.21        |2025-01-07 00:28:05.269404|\n",
      "|35        |61        |125/86        |99.95        |2025-01-07 00:27:48.171985|\n",
      "|77        |74        |125/71        |70.13        |2025-01-07 00:28:30.425382|\n",
      "|72        |93        |115/72        |85.6         |2025-01-07 00:28:25.397109|\n",
      "|95        |66        |120/83        |104.42       |2025-01-07 00:28:48.557117|\n",
      "|68        |87        |115/79        |90.85        |2025-01-07 00:28:21.375261|\n",
      "|66        |93        |110/83        |117.35       |2025-01-07 00:28:19.347544|\n",
      "|54        |73        |112/81        |93.21        |2025-01-07 00:28:07.285569|\n",
      "|15        |73        |123/70        |130.1        |2025-01-07 00:27:28.023268|\n",
      "|6         |61        |124/79        |109.03       |2025-01-07 00:27:18.98384 |\n",
      "|7         |79        |125/70        |76.22        |2025-01-07 00:27:19.985306|\n",
      "|9         |79        |138/86        |113.0        |2025-01-07 00:27:21.990557|\n",
      "|0         |70        |111/87        |117.95       |2025-01-07 00:27:12.946958|\n",
      "|5         |86        |138/71        |89.57        |2025-01-07 00:27:17.976523|\n",
      "|8         |88        |121/82        |98.07        |2025-01-07 00:27:20.987756|\n",
      "|39        |93        |126/75        |92.27        |2025-01-07 00:27:52.194161|\n",
      "|40        |89        |133/88        |113.2        |2025-01-07 00:27:53.202415|\n",
      "|41        |87        |116/81        |134.68       |2025-01-07 00:27:54.208064|\n",
      "|27        |63        |122/70        |76.34        |2025-01-07 00:27:40.110247|\n",
      "|28        |68        |127/74        |118.14       |2025-01-07 00:27:41.12414 |\n",
      "|29        |96        |124/87        |127.13       |2025-01-07 00:27:42.132874|\n",
      "|82        |99        |124/88        |114.72       |2025-01-07 00:28:35.465052|\n",
      "|83        |78        |123/90        |97.74        |2025-01-07 00:28:36.486847|\n",
      "|84        |95        |136/79        |98.79        |2025-01-07 00:28:37.49462 |\n",
      "|74        |73        |112/88        |81.86        |2025-01-07 00:28:27.411585|\n",
      "|75        |60        |125/79        |137.6        |2025-01-07 00:28:28.414437|\n",
      "|42        |81        |118/89        |125.21       |2025-01-07 00:27:55.212776|\n",
      "|43        |78        |111/74        |110.86       |2025-01-07 00:27:56.218941|\n",
      "|17        |78        |127/90        |130.06       |2025-01-07 00:27:30.028871|\n",
      "|18        |95        |132/76        |123.31       |2025-01-07 00:27:31.034145|\n",
      "|11        |60        |113/70        |87.57        |2025-01-07 00:27:24.001763|\n",
      "|12        |63        |130/90        |70.19        |2025-01-07 00:27:25.009195|\n",
      "|91        |66        |111/89        |89.61        |2025-01-07 00:28:44.533569|\n",
      "|92        |91        |139/78        |91.63        |2025-01-07 00:28:45.538886|\n",
      "|44        |75        |120/76        |77.51        |2025-01-07 00:27:57.223399|\n",
      "|45        |97        |121/79        |92.86        |2025-01-07 00:27:58.229227|\n",
      "|30        |63        |128/75        |71.79        |2025-01-07 00:27:43.138423|\n",
      "|31        |100       |112/81        |122.77       |2025-01-07 00:27:44.146241|\n",
      "|93        |65        |115/75        |102.2        |2025-01-07 00:28:46.550495|\n",
      "|94        |60        |139/82        |100.03       |2025-01-07 00:28:47.552476|\n",
      "|98        |93        |134/75        |74.95        |2025-01-07 00:28:51.578569|\n",
      "|99        |62        |121/89        |77.34        |2025-01-07 00:28:52.587608|\n",
      "|63        |96        |116/82        |93.7         |2025-01-07 00:28:16.334553|\n",
      "|64        |92        |110/77        |124.76       |2025-01-07 00:28:17.338386|\n",
      "|89        |61        |110/70        |95.06        |2025-01-07 00:28:42.52836 |\n",
      "|90        |76        |132/77        |130.97       |2025-01-07 00:28:43.530366|\n",
      "|1         |61        |118/84        |133.81       |2025-01-07 00:27:13.951318|\n",
      "|2         |82        |124/89        |86.22        |2025-01-07 00:27:14.958024|\n",
      "|3         |71        |134/83        |120.02       |2025-01-07 00:27:15.963872|\n",
      "|4         |98        |113/75        |71.84        |2025-01-07 00:27:16.969859|\n",
      "+----------+----------+--------------+-------------+--------------------------+\n",
      "\n"
     ]
    }
   ],
   "source": [
    "# Читаєм дані з Delta таблиці\n",
    "delta_df = spark.read.format(\"delta\").table(\"health_stream_data\")\n",
    "delta_df.show(delta_df.count(), truncate=False)"
   ]
  },
  {
   "cell_type": "code",
   "execution_count": 28,
   "id": "622abb85-5c86-4df6-b857-96f44d285f0d",
   "metadata": {},
   "outputs": [],
   "source": [
    "spark.stop()"
   ]
  },
  {
   "cell_type": "code",
   "execution_count": null,
   "id": "f5f04da4-41de-4c06-9a76-8cb5371531aa",
   "metadata": {},
   "outputs": [],
   "source": []
  }
 ],
 "metadata": {
  "kernelspec": {
   "display_name": "Python 3 (ipykernel)",
   "language": "python",
   "name": "python3"
  },
  "language_info": {
   "codemirror_mode": {
    "name": "ipython",
    "version": 3
   },
   "file_extension": ".py",
   "mimetype": "text/x-python",
   "name": "python",
   "nbconvert_exporter": "python",
   "pygments_lexer": "ipython3",
   "version": "3.11.6"
  }
 },
 "nbformat": 4,
 "nbformat_minor": 5
}
